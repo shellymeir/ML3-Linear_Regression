{
  "nbformat": 4,
  "nbformat_minor": 0,
  "metadata": {
    "colab": {
      "name": "Major3.ipynb",
      "provenance": [],
      "collapsed_sections": []
    },
    "kernelspec": {
      "name": "python3",
      "display_name": "Python 3"
    },
    "language_info": {
      "name": "python"
    }
  },
  "cells": [
    {
      "cell_type": "markdown",
      "source": [
        "# Prepare Method"
      ],
      "metadata": {
        "id": "yhCbM0P8m1Y8"
      }
    },
    {
      "cell_type": "code",
      "metadata": {
        "id": "NM-cD2qM2kY5"
      },
      "source": [
        "import copy\n",
        "import numpy as np\n",
        "import pandas as pd\n",
        "import matplotlib.pyplot as plt\n",
        "import seaborn as sns\n",
        "from sklearn.model_selection import train_test_split\n",
        "import math\n",
        "from sklearn.preprocessing import StandardScaler\n",
        "from sklearn.preprocessing import MinMaxScaler\n",
        "import random"
      ],
      "execution_count": 333,
      "outputs": []
    },
    {
      "cell_type": "code",
      "source": [
        "np.random.seed(8)"
      ],
      "metadata": {
        "id": "AIPCfOEOD-40"
      },
      "execution_count": 334,
      "outputs": []
    },
    {
      "cell_type": "code",
      "metadata": {
        "id": "DywN_5oF_fD_"
      },
      "source": [
        "def blood_type_to_ohe(data):\n",
        "  data = pd.get_dummies(data, columns=['blood_type'])\n",
        "  return data"
      ],
      "execution_count": 335,
      "outputs": []
    },
    {
      "cell_type": "code",
      "metadata": {
        "id": "xcipBkEA_v27"
      },
      "source": [
        "def extract_features_from_symptoms(data):\n",
        "  for idx in range(len(data['symptoms'])):\n",
        "   if isinstance(data['symptoms'].iloc[idx], str):\n",
        "     data['symptoms'].iloc[idx] = data['symptoms'].iloc[idx].split(';')\n",
        "\n",
        "  to_concat = data['symptoms'].str.join('|').str.get_dummies()\n",
        "  data = pd.concat([data, to_concat], axis=1)\n",
        "  del data['symptoms']\n",
        "  return data"
      ],
      "execution_count": 336,
      "outputs": []
    },
    {
      "cell_type": "code",
      "metadata": {
        "id": "bA2cI7ioAAHa"
      },
      "source": [
        "def sex_to_ohe(data):\n",
        "  return pd.get_dummies(data, columns=['sex'])"
      ],
      "execution_count": 337,
      "outputs": []
    },
    {
      "cell_type": "code",
      "metadata": {
        "id": "m8CwvCiOAN8f"
      },
      "source": [
        "def craft_employed_feature(data):\n",
        "  employed = [None]*(len(data['job']))\n",
        "\n",
        "  for idx in range(len(data['job'])):\n",
        "    if pd.isna(data['job'].iloc[idx]):\n",
        "      employed[idx] = 0 \n",
        "    else:\n",
        "      employed[idx] = 1\n",
        "  data['employed'] = employed\n",
        "  del data['job']\n",
        "\n",
        "  return data\n"
      ],
      "execution_count": 338,
      "outputs": []
    },
    {
      "cell_type": "code",
      "metadata": {
        "id": "NseG0RDYBB4M"
      },
      "source": [
        "def craft_x_y_coordinates_features(data):\n",
        "  xs = []\n",
        "  ys = []\n",
        "\n",
        "  for idx in range(len(data['current_location'])):\n",
        "    if isinstance(data['current_location'].iloc[idx], str):\n",
        "      coordinates = data['current_location'].iloc[idx].split(',')\n",
        "      xs.append(float(coordinates[0][2:-1])) \n",
        "      ys.append(float(coordinates[1][2:-2]))\n",
        "    else:\n",
        "      xs.append(float('NaN')) \n",
        "      ys.append(float('NaN'))\n",
        "      \n",
        "  del data['current_location']\n",
        "  data['current_location_x_coordinate'] = xs\n",
        "  data['current_location_y_coordinate'] = ys\n",
        "\n",
        "  return data\n"
      ],
      "execution_count": 339,
      "outputs": []
    },
    {
      "cell_type": "code",
      "metadata": {
        "id": "KGA-9h5tCAaJ"
      },
      "source": [
        "def craft_state_feature(data):\n",
        "  states = []\n",
        "  for idx in range(len(data['address'])):\n",
        "    if isinstance(data['address'].iloc[idx], str):\n",
        "      add = data['address'].iloc[idx].split(',')\n",
        "      state = add[-1].split(' ')[1]\n",
        "    else:\n",
        "      state = float('NaN')\n",
        "    states.append(state)\n",
        "\n",
        "  data['state'] = states\n",
        "  del data['address']\n",
        "\n",
        "  return data"
      ],
      "execution_count": 340,
      "outputs": []
    },
    {
      "cell_type": "code",
      "metadata": {
        "id": "91uYX9zGCjEp"
      },
      "source": [
        "def craft_days_since_pcr_feature(data):\n",
        "  all_dates = []\n",
        "  pcr_dates = copy.deepcopy(data['pcr_date'])\n",
        "\n",
        "  for idx in range(len(data['pcr_date'])):\n",
        "    if isinstance(data['pcr_date'].iloc[idx], str):\n",
        "      data['pcr_date'].iloc[idx] = data['pcr_date'].iloc[idx][0:4:] + data['pcr_date'].iloc[idx][5::]\n",
        "      data['pcr_date'].iloc[idx] = data['pcr_date'].iloc[idx][0:6:] + data['pcr_date'].iloc[idx][7::]\n",
        "      data['pcr_date'].iloc[idx] = float(data['pcr_date'].iloc[idx])\n",
        "      all_dates.append(data['pcr_date'].iloc[idx])\n",
        "\n",
        "      \n",
        "  last_date = max(all_dates)\n",
        "  last_date_list = [last_date//10000, (last_date%10000)//100, last_date%100]\n",
        "  last_date_in_days = last_date_list[0]*365 + last_date_list[1]*30 + last_date_list[2]\n",
        "\n",
        "  for idx in range(0,len(pcr_dates)):\n",
        "    if isinstance(pcr_dates.iloc[idx], str):\n",
        "      date = pcr_dates.iloc[idx].split('-')\n",
        "      for i in range(len(date)):\n",
        "        date[i] = float(date[i])\n",
        "      pcr_dates.iloc[idx] = date\n",
        "\n",
        "  for i in range(len(pcr_dates)):\n",
        "    if isinstance(pcr_dates.iloc[i], list):\n",
        "      pcr_dates.iloc[i] = pcr_dates.iloc[i][0]*365 + pcr_dates.iloc[i][1]*30 + pcr_dates.iloc[i][2]\n",
        "      pcr_dates.iloc[i] = last_date_in_days - pcr_dates.iloc[i]\n",
        "\n",
        "  data['days_since_pcr'] = pcr_dates\n",
        "  del data['pcr_date']\n",
        "\n",
        "  return data"
      ],
      "execution_count": 341,
      "outputs": []
    },
    {
      "cell_type": "code",
      "metadata": {
        "id": "o-zz1lnNDohk"
      },
      "source": [
        "def clean_outliers_IQR(data):\n",
        "  features_to_clean = ['current_location_x_coordinate','current_location_y_coordinate', 'days_since_pcr' , 'num_of_siblings', 'household_income',\n",
        "                     'conversations_per_day', 'happiness_score', 'sport_activity', 'age',\n",
        "                     'PCR_01', 'PCR_02', 'PCR_03', 'PCR_04', 'PCR_05', 'PCR_06', 'PCR_07', 'PCR_08', 'PCR_09', 'PCR_10']\n",
        "  \n",
        "  for feature in features_to_clean:\n",
        "    Q1 = data[feature].quantile(0.25)\n",
        "    Q3 = data[feature].quantile(0.75)\n",
        "    IQR = Q3 - Q1\n",
        "    mean = data[feature].mean()\n",
        "    for idx in range(len(data[feature])):\n",
        "      if (data[feature].iloc[idx] < (Q1 - 1.5 * IQR)) or (data[feature].iloc[idx] > (Q3 + 1.5 * IQR)):\n",
        "        data[feature].iloc[idx] = mean\n",
        "        if feature == 'age':\n",
        "          data[feature].iloc[idx] = Q3 + 1.5*IQR\n",
        "  return data"
      ],
      "execution_count": 342,
      "outputs": []
    },
    {
      "cell_type": "code",
      "metadata": {
        "id": "Ps3kAJ3aEvad"
      },
      "source": [
        "  def calculate_weight_IQR_limits_by_age(train, age):\n",
        "    weights=[]\n",
        "    for idx in range(len(train['age'])):\n",
        "      if not(math.isnan(train['age'].iloc[idx])) and not(math.isnan(train['weight'].iloc[idx])):\n",
        "        if train['age'].iloc[idx]<50:\n",
        "          diff = 0\n",
        "        else:\n",
        "          diff = 11\n",
        "        if abs((train['age'].iloc[idx]) - age) <= diff :\n",
        "            weights.append(train['weight'].iloc[idx])\n",
        "    if weights == []:\n",
        "      general_mean = train['weight'].mean()\n",
        "      return general_mean, general_mean, general_mean\n",
        "    weights_df = pd.DataFrame(weights)\n",
        "    Q1 = weights_df[0].quantile(0.25)\n",
        "    Q3 = weights_df[0].quantile(0.75)\n",
        "    Q2 = weights_df[0].quantile(0.5)\n",
        "    IQR = Q3 - Q1\n",
        "    return Q1 - 1.5 * IQR, Q3 + 1.5 * IQR, Q2\n"
      ],
      "execution_count": 343,
      "outputs": []
    },
    {
      "cell_type": "code",
      "metadata": {
        "id": "CvZJMgcwMgVj"
      },
      "source": [
        "def clean_weight_outliers_by_age(train, test):\n",
        "  array_of_low_limit_high_limit_Q2_from_age_1_to_60 = []\n",
        "  for i in range(0,61):\n",
        "    array_of_low_limit_high_limit_Q2_from_age_1_to_60.append([0.0,0.0,0.0])\n",
        "  for age in range(0,61):\n",
        "    array_of_low_limit_high_limit_Q2_from_age_1_to_60[age] = calculate_weight_IQR_limits_by_age(train, age)\n",
        "  mean_general = train['weight'].mean()\n",
        "  upper_general_limit =  train['weight'].quantile(0.75) + 1.5*(train['weight'].quantile(0.75)-train['weight'].quantile(0.25))\n",
        "  for idx in range(len(train['patient_id'])):\n",
        "    if not math.isnan(train['weight'].iloc[idx]):\n",
        "      if not(math.isnan(train['age'].iloc[idx])): #if age exist\n",
        "        if  60 < train['age'].iloc[idx]:\n",
        "          train['weight'].iloc[idx] = mean_general\n",
        "        low_limit, high_limit, Q2 = array_of_low_limit_high_limit_Q2_from_age_1_to_60[int(train['age'].iloc[idx])]\n",
        "        if  high_limit < train['weight'].iloc[idx]:\n",
        "          train['weight'].iloc[idx] = Q2\n",
        "      else:\n",
        "        if upper_general_limit<train['weight'].iloc[idx]:\n",
        "          train['weight'].iloc[idx] = mean_general\n",
        "  for idx in range(len(test['patient_id'])):\n",
        "    if not math.isnan(test['weight'].iloc[idx]):\n",
        "      if not(math.isnan(test['age'].iloc[idx])): #if age exist\n",
        "        if  60 < test['age'].iloc[idx]:\n",
        "          test['weight'].iloc[idx] = mean_general\n",
        "        low_limit, high_limit, Q2 = array_of_low_limit_high_limit_Q2_from_age_1_to_60[int(test['age'].iloc[idx])]\n",
        "        if  high_limit < test['weight'].iloc[idx]:\n",
        "          test['weight'].iloc[idx] = Q2\n",
        "      else:\n",
        "        if upper_general_limit<test['weight'].iloc[idx]:\n",
        "          test['weight'].iloc[idx] = mean_general\n",
        "  \n",
        "  return test, train"
      ],
      "execution_count": 344,
      "outputs": []
    },
    {
      "cell_type": "code",
      "metadata": {
        "id": "Gzi-8hHvNXYB"
      },
      "source": [
        "def calculate_sugar_levels_IQR_limits_by_weight(train, weight):\n",
        "  sugar_levels_list=[]\n",
        "  for idx in range(len(train['sugar_levels'])):\n",
        "    if not(math.isnan(train['sugar_levels'].iloc[idx])) and not(math.isnan(train['weight'].iloc[idx])):\n",
        "      if train['weight'].iloc[idx] <= 100 and 5 <= train['weight'].iloc[idx]:\n",
        "        diff = 5\n",
        "      else:\n",
        "        diff = 20\n",
        "      if abs((train['weight'].iloc[idx]) - weight) <= diff :\n",
        "        sugar_levels_list.append(train['sugar_levels'].iloc[idx])\n",
        "  if sugar_levels_list == []:\n",
        "    general_mean = train['sugar_levels'].mean()\n",
        "    return general_mean, general_mean, general_mean\n",
        "  sugar_levels_df = pd.DataFrame(sugar_levels_list)\n",
        "  Q1 = sugar_levels_df[0].quantile(0.25)\n",
        "  Q3 = sugar_levels_df[0].quantile(0.75)\n",
        "  Q2 = sugar_levels_df[0].quantile(0.5)\n",
        "  IQR = Q3 - Q1\n",
        "  return Q1 - 1.5 * IQR, Q3 + 1.5 * IQR, Q2"
      ],
      "execution_count": 345,
      "outputs": []
    },
    {
      "cell_type": "code",
      "metadata": {
        "id": "rv3W5GUvNkvA"
      },
      "source": [
        "def clean_sugar_levels_outliers_by_weight(train, test):\n",
        "  array_of_low_limit_high_limit_Q2_from_weight_1_to_140 = []\n",
        "  for i in range(1,142):\n",
        "    array_of_low_limit_high_limit_Q2_from_weight_1_to_140.append([0.0,0.0,0.0])\n",
        "  for weight in range(1,141):\n",
        "    array_of_low_limit_high_limit_Q2_from_weight_1_to_140[weight] = calculate_sugar_levels_IQR_limits_by_weight(train, weight)\n",
        "  mean_general = train['sugar_levels'].mean()\n",
        "  upper_general_limit =  train['sugar_levels'].quantile(0.75) + 1.5*(train['sugar_levels'].quantile(0.75)-train['sugar_levels'].quantile(0.25))\n",
        "  for idx in range(len(train['patient_id'])):\n",
        "    if not math.isnan(train['sugar_levels'].iloc[idx]):\n",
        "      if not(math.isnan(train['weight'].iloc[idx])): #if weight exist\n",
        "        if 140 < train['weight'].iloc[idx]:\n",
        "          train['sugar_levels'].iloc[idx] = mean_general\n",
        "        low_limit, high_limit, Q2 = array_of_low_limit_high_limit_Q2_from_weight_1_to_140[int(train['weight'].iloc[idx])]\n",
        "        if  high_limit < train['sugar_levels'].iloc[idx]:\n",
        "          train['sugar_levels'].iloc[idx] = Q2\n",
        "      else:\n",
        "        if upper_general_limit<train['sugar_levels'].iloc[idx]:\n",
        "          train['sugar_levels'].iloc[idx] = mean_general\n",
        "\n",
        "  for idx in range(len(test['patient_id'])):\n",
        "    if not math.isnan(test['sugar_levels'].iloc[idx]):\n",
        "      if not(math.isnan(test['weight'].iloc[idx])): #if weight exist\n",
        "        if 140 < test['weight'].iloc[idx]:\n",
        "          test['sugar_levels'].iloc[idx] = mean_general\n",
        "        low_limit, high_limit, Q2 = array_of_low_limit_high_limit_Q2_from_weight_1_to_140[int(test['weight'].iloc[idx])]\n",
        "        if  high_limit < test['sugar_levels'].iloc[idx]:\n",
        "          test['sugar_levels'].iloc[idx] = Q2\n",
        "      else:\n",
        "        if upper_general_limit<test['sugar_levels'].iloc[idx]:\n",
        "          test['sugar_levels'].iloc[idx] = mean_general\n",
        "  \n",
        "  return test, train\n"
      ],
      "execution_count": 346,
      "outputs": []
    },
    {
      "cell_type": "code",
      "metadata": {
        "id": "Mg5rJhn_QPg2"
      },
      "source": [
        "def clean_outliers_from_pcr_tests(data):\n",
        "  PCR_TESTS = ['PCR_01', 'PCR_02', 'PCR_03', 'PCR_04', 'PCR_05', 'PCR_06', 'PCR_07', 'PCR_08', 'PCR_09', 'PCR_10']\n",
        "\n",
        "  for pcr_test in PCR_TESTS:\n",
        "    for patient in range(len(data[pcr_test])):\n",
        "      if data['days_since_pcr'].iloc[patient] >= 389 and data['days_since_pcr'].iloc[patient] <= 407:\n",
        "        data[pcr_test].iloc[patient] = float('NaN')\n",
        "  return data"
      ],
      "execution_count": 347,
      "outputs": []
    },
    {
      "cell_type": "code",
      "source": [
        "def fill_missing_blood_types(data):\n",
        "  features_to_impute = ['blood_type_A+', 'blood_type_A-', 'blood_type_B+', 'blood_type_B-', 'blood_type_AB+', 'blood_type_AB-', 'blood_type_O+', 'blood_type_O-']\n",
        "  for idx in range(len(data['patient_id'])):\n",
        "    isempty = 1\n",
        "    for feature in features_to_impute:\n",
        "      isempty = isempty and (data[feature].iloc[idx] == 0)\n",
        "    if isempty:\n",
        "      data[random.choice(features_to_impute)].iloc[idx] = 1\n",
        "     \n",
        "  return data"
      ],
      "metadata": {
        "id": "XF-sVd_724zG"
      },
      "execution_count": 348,
      "outputs": []
    },
    {
      "cell_type": "code",
      "metadata": {
        "id": "HpsQ67mGd7lt"
      },
      "source": [
        "def fill_missing_data_with_mean(train, test):\n",
        "  features_to_impute = ['current_location_x_coordinate','current_location_y_coordinate', 'days_since_pcr' , 'num_of_siblings', 'household_income',\n",
        "                        'conversations_per_day', 'happiness_score', 'sport_activity',\n",
        "                        'PCR_01', 'PCR_02', 'PCR_03', 'PCR_04', 'PCR_05', 'PCR_06', 'PCR_07', 'PCR_08', 'PCR_09', 'PCR_10']\n",
        "  for feature in features_to_impute:\n",
        "      mean = train[feature].mean()\n",
        "      for idx in range(len(train[feature])):\n",
        "        if math.isnan(train[feature].iloc[idx]):\n",
        "          train[feature].iloc[idx] = mean\n",
        "      for idx in range(len(test[feature])):\n",
        "        if math.isnan(test[feature].iloc[idx]):\n",
        "          test[feature].iloc[idx] = mean\n",
        "  return test, train\n"
      ],
      "execution_count": 349,
      "outputs": []
    },
    {
      "cell_type": "code",
      "metadata": {
        "id": "ZFza4KcwfwPG"
      },
      "source": [
        "def calculate_average_weight_by_sex_and_age(sex, age, train):\n",
        "  sum_of_weights = 0\n",
        "  num_of_weights = 0\n",
        "  for idx in range(len(train[sex])):\n",
        "    if not (math.isnan(train[sex].iloc[idx])) and not(math.isnan(train['age'].iloc[idx])) and not(math.isnan(train['weight'].iloc[idx])):\n",
        "      if train[sex].iloc[idx] == 1 and abs((train['age'].iloc[idx]) - age) <= 2 :\n",
        "            sum_of_weights+=train['weight'].iloc[idx]\n",
        "            num_of_weights+=1\n",
        "  if num_of_weights != 0:\n",
        "    return sum_of_weights/num_of_weights\n",
        "  return 0"
      ],
      "execution_count": 350,
      "outputs": []
    },
    {
      "cell_type": "code",
      "metadata": {
        "id": "QoDW4Dphf0x_"
      },
      "source": [
        "def choose_M_or_F_by_weight_and_age(weight, age, train):\n",
        "  female_average_in_this_age = calculate_average_weight_by_sex_and_age('sex_F', age, train)\n",
        "  male_average_in_this_age = calculate_average_weight_by_sex_and_age('sex_M', age, train)\n",
        "  diff_from_female = abs(female_average_in_this_age - weight)\n",
        "  diff_from_male = abs(male_average_in_this_age - weight)\n",
        "  if diff_from_female < diff_from_male:\n",
        "    return 'sex_F'\n",
        "  else:\n",
        "    return 'sex_M'"
      ],
      "execution_count": 351,
      "outputs": []
    },
    {
      "cell_type": "code",
      "metadata": {
        "id": "8_I2GO1Tf-cj"
      },
      "source": [
        "def get_55_percents_female():\n",
        "  return np.random.choice(['sex_F', 'sex_M'], p=[0.55, 0.45])\n"
      ],
      "execution_count": 352,
      "outputs": []
    },
    {
      "cell_type": "code",
      "metadata": {
        "id": "HEoI7SO6gEfC"
      },
      "source": [
        "def fill_missing_sex_by_weight(train, test):\n",
        "  for idx in range(len(train['patient_id'])):\n",
        "    if train['sex_F'].iloc[idx] == 0 and train['sex_M'].iloc[idx] == 0:\n",
        "      if not(math.isnan(train['age'].iloc[idx])) and not(math.isnan(train['weight'].iloc[idx])):\n",
        "        M_or_F = choose_M_or_F_by_weight_and_age(train['weight'].iloc[idx], train['age'].iloc[idx], train)\n",
        "        train[M_or_F].iloc[idx] = 1\n",
        "      else:\n",
        "        train[get_55_percents_female()].iloc[idx] = 1\n",
        "\n",
        "  for idx in range(len(test['patient_id'])):\n",
        "    if test['sex_F'].iloc[idx] == 0 and test['sex_M'].iloc[idx] == 0:\n",
        "      if not(math.isnan(test['age'].iloc[idx])) and not(math.isnan(test['weight'].iloc[idx])):\n",
        "        M_or_F = choose_M_or_F_by_weight_and_age(test['weight'].iloc[idx], test['age'].iloc[idx], train)\n",
        "        test[M_or_F].iloc[idx] = 1\n",
        "      else:\n",
        "        test[get_55_percents_female()].iloc[idx] = 1\n",
        "        \n",
        "  return test, train"
      ],
      "execution_count": 353,
      "outputs": []
    },
    {
      "cell_type": "code",
      "metadata": {
        "id": "0Q3HAzcchhQm"
      },
      "source": [
        "def fill_missing_weight_by_age(train, test):\n",
        "  for idx in range(len(train['patient_id'])):\n",
        "    if math.isnan(train['weight'].iloc[idx]):\n",
        "      sex = 'sex_F'\n",
        "      if train['sex_M'].iloc[idx] == 1:\n",
        "        sex = 'sex_M'\n",
        "      if  not(math.isnan(train['age'].iloc[idx])):\n",
        "        train['weight'].iloc[idx] = calculate_average_weight_by_sex_and_age(sex, train['age'].iloc[idx], train)\n",
        "      else:\n",
        "        train['weight'].iloc[idx] = train['weight'].mean()\n",
        "\n",
        "  for idx in range(len(test['patient_id'])):\n",
        "    if math.isnan(test['weight'].iloc[idx]):\n",
        "      sex = 'sex_F'\n",
        "      if test['sex_M'].iloc[idx] == 1:\n",
        "        sex = 'sex_M'\n",
        "      if not(math.isnan(test['age'].iloc[idx])):\n",
        "        test['weight'].iloc[idx] = calculate_average_weight_by_sex_and_age(sex, test['age'].iloc[idx], train)\n",
        "      else:\n",
        "        test['weight'].iloc[idx] = train['weight'].mean()\n",
        "\n",
        "  return test, train    "
      ],
      "execution_count": 354,
      "outputs": []
    },
    {
      "cell_type": "code",
      "metadata": {
        "id": "OYvqnUaEXF9o"
      },
      "source": [
        "def fill_missing_sugar_levels_by_weight(train, test):\n",
        "  for idx in range(len(train['patient_id'])):\n",
        "    if math.isnan(train['sugar_levels'].iloc[idx]):\n",
        "      x,y,Q2 = calculate_sugar_levels_IQR_limits_by_weight(train, train['weight'].iloc[idx])\n",
        "      train['sugar_levels'].iloc[idx] = Q2\n",
        "  \n",
        "  for idx in range(len(test['patient_id'])):\n",
        "    if math.isnan(test['sugar_levels'].iloc[idx]):\n",
        "      x,y,Q2 = calculate_sugar_levels_IQR_limits_by_weight(train, test['weight'].iloc[idx])\n",
        "      test['sugar_levels'].iloc[idx] = Q2\n",
        "\n",
        "  return test, train\n"
      ],
      "execution_count": 355,
      "outputs": []
    },
    {
      "cell_type": "code",
      "metadata": {
        "id": "uTrLMM-AewTT"
      },
      "source": [
        "def calculate_average_age_by_weight(train, weight):\n",
        "  list_of_ages = []\n",
        "  for idx in range(len(train['patient_id'])):\n",
        "    if  not(math.isnan(train['age'].iloc[idx])) and not(math.isnan(train['weight'].iloc[idx])):\n",
        "      if abs((train['weight'].iloc[idx]) - weight) <= 5 :\n",
        "            list_of_ages.append(train['age'].iloc[idx])\n",
        "  if list_of_ages == []:\n",
        "    return train['age'].mean()\n",
        "  return sum(list_of_ages) / len(list_of_ages)\n"
      ],
      "execution_count": 356,
      "outputs": []
    },
    {
      "cell_type": "code",
      "metadata": {
        "id": "28e1MU21fBZc"
      },
      "source": [
        "def fill_missing_age_by_weight(train, test):\n",
        "  for idx in range(len(train['patient_id'])):\n",
        "    if math.isnan(train['age'].iloc[idx]):\n",
        "      train['age'].iloc[idx] = calculate_average_age_by_weight(train, train['weight'].iloc[idx])\n",
        "  \n",
        "  for idx in range(len(test['patient_id'])):\n",
        "    if math.isnan(test['age'].iloc[idx]):\n",
        "      test['age'].iloc[idx] = calculate_average_age_by_weight(train, test['weight'].iloc[idx])\n",
        "\n",
        "  return test, train\n",
        "    "
      ],
      "execution_count": 357,
      "outputs": []
    },
    {
      "cell_type": "code",
      "metadata": {
        "id": "7nFrNP_4Wmyu"
      },
      "source": [
        "def change_data_to_binary(data):\n",
        "  covid_b = [None]*len(data['patient_id'])\n",
        "  for idx in range(len(data['covid'])):\n",
        "    if data['covid'].iloc[idx]:\n",
        "      covid_b[idx] = float(1)\n",
        "    else:\n",
        "      covid_b[idx] = float(-1)\n",
        "  data['covid'] = covid_b\n",
        "\n",
        "  risk_b = [None]*len(data['patient_id'])\n",
        "  for idx in range(len(data['risk'])):\n",
        "    if data['risk'].iloc[idx] == 'High':\n",
        "      risk_b[idx] = float(1)\n",
        "    if data['risk'].iloc[idx] == 'Low':\n",
        "      risk_b[idx] = float(-1)\n",
        "  data['risk'] = risk_b\n",
        "\n",
        "  spread_b = [None]*len(data['patient_id'])\n",
        "  for idx in range(len(data['spread'])):\n",
        "    if data['spread'].iloc[idx] == 'High':\n",
        "      spread_b[idx] = float(1)\n",
        "    if data['spread'].iloc[idx] == 'Low':\n",
        "      spread_b[idx] = float(-1)\n",
        "  data['spread'] = spread_b\n",
        "\n",
        "  return data\n"
      ],
      "execution_count": 358,
      "outputs": []
    },
    {
      "cell_type": "code",
      "source": [
        "def normalize_data(data):\n",
        "  \n",
        "  feature_and_scaler = { 'age': MinMaxScaler(), 'num_of_siblings': MinMaxScaler(), \n",
        "                       'household_income': MinMaxScaler(), 'conversations_per_day': StandardScaler(), \n",
        "                       'sugar_levels': StandardScaler(), 'PCR_01': StandardScaler(), 'PCR_02': StandardScaler(), \n",
        "                       'PCR_03': StandardScaler(), 'PCR_04': StandardScaler(), 'PCR_05': StandardScaler(), \n",
        "                       'PCR_07': StandardScaler(), 'PCR_08': StandardScaler(), 'PCR_10': StandardScaler(), \n",
        "                      #  'blood_type_A+': MinMaxScaler(), 'blood_type_A-': MinMaxScaler(), 'blood_type_AB+': MinMaxScaler(), \n",
        "                      #  'blood_type_AB-': MinMaxScaler(), 'blood_type_B+': MinMaxScaler(), 'blood_type_B-': MinMaxScaler(), \n",
        "                      #  'blood_type_O+': MinMaxScaler(), 'blood_type_O-': MinMaxScaler(), \n",
        "                       'cough': MinMaxScaler(), \n",
        "                       'fever': MinMaxScaler(), 'headache': MinMaxScaler(), 'low_appetite': MinMaxScaler(), \n",
        "                       'shortness_of_breath': MinMaxScaler(), 'sex_F': MinMaxScaler(), 'current_location_x_coordinate': MinMaxScaler(), \n",
        "                       'current_location_y_coordinate': MinMaxScaler(), 'days_since_pcr': StandardScaler() }\n",
        "\n",
        "  for feature in feature_and_scaler:\n",
        "    (feature_and_scaler[feature]).fit(data[[feature]])\n",
        "    data[feature] = (feature_and_scaler[feature]).transform(data[[feature]])\n",
        "  \n",
        "  return data"
      ],
      "metadata": {
        "id": "pXPl1Z_vuwKp"
      },
      "execution_count": 359,
      "outputs": []
    },
    {
      "cell_type": "code",
      "metadata": {
        "id": "pBAM8vpa0Ur8"
      },
      "source": [
        "def prepare_data(data, training_data):\n",
        "  np.random.seed(8)\n",
        "\n",
        "  train_copy = copy.deepcopy(training_data)\n",
        "  data_copy = copy.deepcopy(data)\n",
        "  \n",
        "  # transform blood type to ohe\n",
        "  data_copy = blood_type_to_ohe(data_copy)\n",
        "  train_copy = blood_type_to_ohe(train_copy)\n",
        "\n",
        "  # extracting features from symptoms\n",
        "  data_copy = extract_features_from_symptoms(data_copy)\n",
        "  train_copy = extract_features_from_symptoms(train_copy)\n",
        "\n",
        "\n",
        "  # convert sex feature to ohe\n",
        "  data_copy = sex_to_ohe(data_copy)\n",
        "  train_copy = sex_to_ohe(train_copy)\n",
        "  \n",
        "\n",
        "  # craft new feature 'employed' from job feature\n",
        "  data_copy = craft_employed_feature(data_copy)\n",
        "  train_copy = craft_employed_feature(train_copy)\n",
        "\n",
        "\n",
        "  # craft new features 'x_coordinates' and 'y_coordinates' from 'current_location' feature\n",
        "  train_copy = craft_x_y_coordinates_features(train_copy)\n",
        "  data_copy = craft_x_y_coordinates_features(data_copy)\n",
        "\n",
        "\n",
        "  # craft new feature 'state' from 'address' feature\n",
        "  data_copy = craft_state_feature(data_copy)\n",
        "  train_copy = craft_state_feature(train_copy)\n",
        "\n",
        "\n",
        "  # craft new feature 'days_since_pcr' from 'pcr_date' feature\n",
        "  data_copy = craft_days_since_pcr_feature(data_copy)\n",
        "  train_copy = craft_days_since_pcr_feature(train_copy)\n",
        "    \n",
        "  # cleaning outliers from pcr tests\n",
        "  data_copy = clean_outliers_from_pcr_tests(data_copy)\n",
        "  train_copy = clean_outliers_from_pcr_tests(train_copy)\n",
        "\n",
        "\n",
        "  # cleaning outliers by IQR based technique\n",
        "  data_copy = clean_outliers_IQR(data_copy)\n",
        "  train_copy = clean_outliers_IQR(train_copy)\n",
        "\n",
        "\n",
        "  # clean weight feature by age feature (of the training data!)\n",
        "  data_copy, train_copy = clean_weight_outliers_by_age(train_copy, data_copy)\n",
        "\n",
        "\n",
        "  # clean sugar_levels feature by weight feature (of the training data!)\n",
        "  data_copy, train_copy = clean_sugar_levels_outliers_by_weight(train_copy, data_copy)\n",
        "\n",
        "\n",
        "##################\n",
        "  # fill missing blood types\n",
        "  data_copy = fill_missing_blood_types(data_copy)\n",
        "  train_copy = fill_missing_blood_types(train_copy)\n",
        "\n",
        "\n",
        "  # fill missing num_of_siblings in test according to train median\n",
        "  median = train_copy.num_of_siblings.median()\n",
        "  data_copy['num_of_siblings'] = data_copy.num_of_siblings.fillna(data_copy.num_of_siblings.median())\n",
        "  train_copy['num_of_siblings'] = train_copy.num_of_siblings.fillna(train_copy.num_of_siblings.median())\n",
        "\n",
        "\n",
        "  # fill missing data of some features in test with means of same features in train\n",
        "  data_copy, train_copy = fill_missing_data_with_mean(train_copy, data_copy)\n",
        "\n",
        "\n",
        "  # fill missing sex with weight\n",
        "  data_copy, train_copy = fill_missing_sex_by_weight(train_copy, data_copy)\n",
        "\n",
        "\n",
        "  # fill missing weight by age and sex\n",
        "  data_copy, train_copy = fill_missing_weight_by_age(train_copy, data_copy)\n",
        "\n",
        "\n",
        "  # fill missing sugar_levels by weight\n",
        "  data_copy, train_copy = fill_missing_sugar_levels_by_weight(train_copy, data_copy)\n",
        "\n",
        "\n",
        "  # fill missing age by weight\n",
        "  data_copy, train_copy = fill_missing_age_by_weight(train_copy, data_copy)\n",
        "\n",
        "\n",
        "  # change data to -1,1\n",
        "  # data_copy = change_data_to_binary(data_copy)\n",
        "\n",
        "  del data_copy['weight']\n",
        "  del data_copy['sex_M']\n",
        "  del data_copy['PCR_06']\n",
        "  del data_copy['PCR_09']\n",
        "  del data_copy['happiness_score']\n",
        "  del data_copy['sport_activity']\n",
        "  del data_copy['employed']\n",
        "  del data_copy['state']\n",
        "\n",
        "  del train_copy['weight']\n",
        "  del train_copy['sex_M']\n",
        "  del train_copy['PCR_06']\n",
        "  del train_copy['PCR_09']\n",
        "  del train_copy['happiness_score']\n",
        "  del train_copy['sport_activity']\n",
        "  del train_copy['employed']\n",
        "  del train_copy['state']\n",
        "  # normalize data\n",
        "  data_copy = normalize_data(data_copy)\n",
        "  train_copy = normalize_data(train_copy)\n",
        "\n",
        "  return train_copy, data_copy \n",
        "  "
      ],
      "execution_count": 360,
      "outputs": []
    },
    {
      "cell_type": "markdown",
      "source": [
        "# Load Data"
      ],
      "metadata": {
        "id": "PieRD7Rdm6cl"
      }
    },
    {
      "cell_type": "code",
      "source": [
        "data = pd.read_csv('virus_labeled.csv')                                                                  \n",
        "train, test = train_test_split(data, test_size=0.2, random_state=8)\n",
        "\n",
        "\n",
        "train, test = prepare_data(test, train)\n",
        "# #train = prepare_data(train, train)\n",
        "\n",
        "\n",
        "# train_clean = train.copy()\n",
        "# test_clean = test.copy()\n",
        "\n"
      ],
      "metadata": {
        "colab": {
          "base_uri": "https://localhost:8080/"
        },
        "id": "BUNTiXehm9o8",
        "outputId": "e1887b58-de37-4b6e-86b8-b74e0d007f4d"
      },
      "execution_count": 361,
      "outputs": [
        {
          "output_type": "stream",
          "name": "stderr",
          "text": [
            "/usr/local/lib/python3.7/dist-packages/pandas/core/indexing.py:670: SettingWithCopyWarning: \n",
            "A value is trying to be set on a copy of a slice from a DataFrame\n",
            "\n",
            "See the caveats in the documentation: https://pandas.pydata.org/pandas-docs/stable/user_guide/indexing.html#returning-a-view-versus-a-copy\n",
            "  iloc._setitem_with_indexer(indexer, value)\n"
          ]
        }
      ]
    },
    {
      "cell_type": "markdown",
      "source": [
        "# Section 1"
      ],
      "metadata": {
        "id": "kFz2o_l-wE88"
      }
    },
    {
      "cell_type": "markdown",
      "source": [
        "## Q1"
      ],
      "metadata": {
        "id": "MhNlPAhFwNTm"
      }
    },
    {
      "cell_type": "code",
      "source": [
        "train.head()"
      ],
      "metadata": {
        "colab": {
          "base_uri": "https://localhost:8080/",
          "height": 287
        },
        "id": "4swIl6Pb8fG1",
        "outputId": "348d652e-792a-4ee8-e6de-7b5b0c82c37a"
      },
      "execution_count": 362,
      "outputs": [
        {
          "output_type": "execute_result",
          "data": {
            "text/html": [
              "\n",
              "  <div id=\"df-05aeb9c0-058b-4997-bd5c-864d2342f854\">\n",
              "    <div class=\"colab-df-container\">\n",
              "      <div>\n",
              "<style scoped>\n",
              "    .dataframe tbody tr th:only-of-type {\n",
              "        vertical-align: middle;\n",
              "    }\n",
              "\n",
              "    .dataframe tbody tr th {\n",
              "        vertical-align: top;\n",
              "    }\n",
              "\n",
              "    .dataframe thead th {\n",
              "        text-align: right;\n",
              "    }\n",
              "</style>\n",
              "<table border=\"1\" class=\"dataframe\">\n",
              "  <thead>\n",
              "    <tr style=\"text-align: right;\">\n",
              "      <th></th>\n",
              "      <th>patient_id</th>\n",
              "      <th>age</th>\n",
              "      <th>num_of_siblings</th>\n",
              "      <th>household_income</th>\n",
              "      <th>conversations_per_day</th>\n",
              "      <th>sugar_levels</th>\n",
              "      <th>PCR_01</th>\n",
              "      <th>PCR_02</th>\n",
              "      <th>PCR_03</th>\n",
              "      <th>PCR_04</th>\n",
              "      <th>PCR_05</th>\n",
              "      <th>PCR_07</th>\n",
              "      <th>PCR_08</th>\n",
              "      <th>PCR_10</th>\n",
              "      <th>VirusScore</th>\n",
              "      <th>blood_type_A+</th>\n",
              "      <th>blood_type_A-</th>\n",
              "      <th>blood_type_AB+</th>\n",
              "      <th>blood_type_AB-</th>\n",
              "      <th>blood_type_B+</th>\n",
              "      <th>blood_type_B-</th>\n",
              "      <th>blood_type_O+</th>\n",
              "      <th>blood_type_O-</th>\n",
              "      <th>cough</th>\n",
              "      <th>fever</th>\n",
              "      <th>headache</th>\n",
              "      <th>low_appetite</th>\n",
              "      <th>shortness_of_breath</th>\n",
              "      <th>sex_F</th>\n",
              "      <th>current_location_x_coordinate</th>\n",
              "      <th>current_location_y_coordinate</th>\n",
              "      <th>days_since_pcr</th>\n",
              "    </tr>\n",
              "  </thead>\n",
              "  <tbody>\n",
              "    <tr>\n",
              "      <th>2758</th>\n",
              "      <td>4126</td>\n",
              "      <td>0.030769</td>\n",
              "      <td>0.666667</td>\n",
              "      <td>0.319165</td>\n",
              "      <td>-9.597661e-01</td>\n",
              "      <td>-0.680412</td>\n",
              "      <td>2.198456e-17</td>\n",
              "      <td>-1.851233</td>\n",
              "      <td>0.690545</td>\n",
              "      <td>0.205996</td>\n",
              "      <td>0.074363</td>\n",
              "      <td>-0.153725</td>\n",
              "      <td>0.663354</td>\n",
              "      <td>0.053964</td>\n",
              "      <td>0.33</td>\n",
              "      <td>0</td>\n",
              "      <td>0</td>\n",
              "      <td>1</td>\n",
              "      <td>0</td>\n",
              "      <td>0</td>\n",
              "      <td>0</td>\n",
              "      <td>0</td>\n",
              "      <td>0</td>\n",
              "      <td>0.0</td>\n",
              "      <td>0.0</td>\n",
              "      <td>1.0</td>\n",
              "      <td>1.0</td>\n",
              "      <td>0.0</td>\n",
              "      <td>1.0</td>\n",
              "      <td>0.814160</td>\n",
              "      <td>0.525443</td>\n",
              "      <td>0.000000</td>\n",
              "    </tr>\n",
              "    <tr>\n",
              "      <th>2388</th>\n",
              "      <td>6904</td>\n",
              "      <td>0.830769</td>\n",
              "      <td>0.500000</td>\n",
              "      <td>0.822177</td>\n",
              "      <td>-5.463079e-01</td>\n",
              "      <td>0.762415</td>\n",
              "      <td>1.847002e-01</td>\n",
              "      <td>1.775460</td>\n",
              "      <td>-1.273599</td>\n",
              "      <td>1.060212</td>\n",
              "      <td>0.074363</td>\n",
              "      <td>0.303455</td>\n",
              "      <td>0.716775</td>\n",
              "      <td>1.815227</td>\n",
              "      <td>0.15</td>\n",
              "      <td>0</td>\n",
              "      <td>0</td>\n",
              "      <td>0</td>\n",
              "      <td>0</td>\n",
              "      <td>0</td>\n",
              "      <td>0</td>\n",
              "      <td>0</td>\n",
              "      <td>1</td>\n",
              "      <td>0.0</td>\n",
              "      <td>0.0</td>\n",
              "      <td>0.0</td>\n",
              "      <td>0.0</td>\n",
              "      <td>0.0</td>\n",
              "      <td>1.0</td>\n",
              "      <td>0.678369</td>\n",
              "      <td>0.480022</td>\n",
              "      <td>0.059484</td>\n",
              "    </tr>\n",
              "    <tr>\n",
              "      <th>137</th>\n",
              "      <td>14355</td>\n",
              "      <td>0.153846</td>\n",
              "      <td>0.166667</td>\n",
              "      <td>0.003742</td>\n",
              "      <td>-1.836123e-16</td>\n",
              "      <td>0.540442</td>\n",
              "      <td>-2.545320e-01</td>\n",
              "      <td>-1.817479</td>\n",
              "      <td>-1.103918</td>\n",
              "      <td>1.473467</td>\n",
              "      <td>-1.197466</td>\n",
              "      <td>-0.076736</td>\n",
              "      <td>0.000000</td>\n",
              "      <td>-0.826667</td>\n",
              "      <td>0.35</td>\n",
              "      <td>0</td>\n",
              "      <td>0</td>\n",
              "      <td>0</td>\n",
              "      <td>0</td>\n",
              "      <td>1</td>\n",
              "      <td>0</td>\n",
              "      <td>0</td>\n",
              "      <td>0</td>\n",
              "      <td>0.0</td>\n",
              "      <td>0.0</td>\n",
              "      <td>0.0</td>\n",
              "      <td>0.0</td>\n",
              "      <td>0.0</td>\n",
              "      <td>0.0</td>\n",
              "      <td>0.817720</td>\n",
              "      <td>0.481864</td>\n",
              "      <td>0.973931</td>\n",
              "    </tr>\n",
              "    <tr>\n",
              "      <th>506</th>\n",
              "      <td>11696</td>\n",
              "      <td>0.707692</td>\n",
              "      <td>0.500000</td>\n",
              "      <td>0.126375</td>\n",
              "      <td>-5.463079e-01</td>\n",
              "      <td>0.706922</td>\n",
              "      <td>4.594262e-01</td>\n",
              "      <td>1.418768</td>\n",
              "      <td>1.451712</td>\n",
              "      <td>-1.401316</td>\n",
              "      <td>-1.197466</td>\n",
              "      <td>0.127806</td>\n",
              "      <td>0.455092</td>\n",
              "      <td>1.815227</td>\n",
              "      <td>0.22</td>\n",
              "      <td>0</td>\n",
              "      <td>0</td>\n",
              "      <td>0</td>\n",
              "      <td>0</td>\n",
              "      <td>1</td>\n",
              "      <td>0</td>\n",
              "      <td>0</td>\n",
              "      <td>0</td>\n",
              "      <td>0.0</td>\n",
              "      <td>0.0</td>\n",
              "      <td>0.0</td>\n",
              "      <td>0.0</td>\n",
              "      <td>0.0</td>\n",
              "      <td>1.0</td>\n",
              "      <td>0.718208</td>\n",
              "      <td>0.247308</td>\n",
              "      <td>0.353642</td>\n",
              "    </tr>\n",
              "    <tr>\n",
              "      <th>2712</th>\n",
              "      <td>5167</td>\n",
              "      <td>0.400000</td>\n",
              "      <td>0.666667</td>\n",
              "      <td>0.350878</td>\n",
              "      <td>6.940667e-01</td>\n",
              "      <td>-0.846892</td>\n",
              "      <td>2.194438e+00</td>\n",
              "      <td>-1.007298</td>\n",
              "      <td>0.924292</td>\n",
              "      <td>0.714133</td>\n",
              "      <td>2.618022</td>\n",
              "      <td>-0.065685</td>\n",
              "      <td>-0.737842</td>\n",
              "      <td>-0.826667</td>\n",
              "      <td>0.35</td>\n",
              "      <td>0</td>\n",
              "      <td>0</td>\n",
              "      <td>0</td>\n",
              "      <td>0</td>\n",
              "      <td>0</td>\n",
              "      <td>0</td>\n",
              "      <td>1</td>\n",
              "      <td>0</td>\n",
              "      <td>0.0</td>\n",
              "      <td>0.0</td>\n",
              "      <td>0.0</td>\n",
              "      <td>0.0</td>\n",
              "      <td>0.0</td>\n",
              "      <td>0.0</td>\n",
              "      <td>0.828391</td>\n",
              "      <td>0.465575</td>\n",
              "      <td>0.097852</td>\n",
              "    </tr>\n",
              "  </tbody>\n",
              "</table>\n",
              "</div>\n",
              "      <button class=\"colab-df-convert\" onclick=\"convertToInteractive('df-05aeb9c0-058b-4997-bd5c-864d2342f854')\"\n",
              "              title=\"Convert this dataframe to an interactive table.\"\n",
              "              style=\"display:none;\">\n",
              "        \n",
              "  <svg xmlns=\"http://www.w3.org/2000/svg\" height=\"24px\"viewBox=\"0 0 24 24\"\n",
              "       width=\"24px\">\n",
              "    <path d=\"M0 0h24v24H0V0z\" fill=\"none\"/>\n",
              "    <path d=\"M18.56 5.44l.94 2.06.94-2.06 2.06-.94-2.06-.94-.94-2.06-.94 2.06-2.06.94zm-11 1L8.5 8.5l.94-2.06 2.06-.94-2.06-.94L8.5 2.5l-.94 2.06-2.06.94zm10 10l.94 2.06.94-2.06 2.06-.94-2.06-.94-.94-2.06-.94 2.06-2.06.94z\"/><path d=\"M17.41 7.96l-1.37-1.37c-.4-.4-.92-.59-1.43-.59-.52 0-1.04.2-1.43.59L10.3 9.45l-7.72 7.72c-.78.78-.78 2.05 0 2.83L4 21.41c.39.39.9.59 1.41.59.51 0 1.02-.2 1.41-.59l7.78-7.78 2.81-2.81c.8-.78.8-2.07 0-2.86zM5.41 20L4 18.59l7.72-7.72 1.47 1.35L5.41 20z\"/>\n",
              "  </svg>\n",
              "      </button>\n",
              "      \n",
              "  <style>\n",
              "    .colab-df-container {\n",
              "      display:flex;\n",
              "      flex-wrap:wrap;\n",
              "      gap: 12px;\n",
              "    }\n",
              "\n",
              "    .colab-df-convert {\n",
              "      background-color: #E8F0FE;\n",
              "      border: none;\n",
              "      border-radius: 50%;\n",
              "      cursor: pointer;\n",
              "      display: none;\n",
              "      fill: #1967D2;\n",
              "      height: 32px;\n",
              "      padding: 0 0 0 0;\n",
              "      width: 32px;\n",
              "    }\n",
              "\n",
              "    .colab-df-convert:hover {\n",
              "      background-color: #E2EBFA;\n",
              "      box-shadow: 0px 1px 2px rgba(60, 64, 67, 0.3), 0px 1px 3px 1px rgba(60, 64, 67, 0.15);\n",
              "      fill: #174EA6;\n",
              "    }\n",
              "\n",
              "    [theme=dark] .colab-df-convert {\n",
              "      background-color: #3B4455;\n",
              "      fill: #D2E3FC;\n",
              "    }\n",
              "\n",
              "    [theme=dark] .colab-df-convert:hover {\n",
              "      background-color: #434B5C;\n",
              "      box-shadow: 0px 1px 3px 1px rgba(0, 0, 0, 0.15);\n",
              "      filter: drop-shadow(0px 1px 2px rgba(0, 0, 0, 0.3));\n",
              "      fill: #FFFFFF;\n",
              "    }\n",
              "  </style>\n",
              "\n",
              "      <script>\n",
              "        const buttonEl =\n",
              "          document.querySelector('#df-05aeb9c0-058b-4997-bd5c-864d2342f854 button.colab-df-convert');\n",
              "        buttonEl.style.display =\n",
              "          google.colab.kernel.accessAllowed ? 'block' : 'none';\n",
              "\n",
              "        async function convertToInteractive(key) {\n",
              "          const element = document.querySelector('#df-05aeb9c0-058b-4997-bd5c-864d2342f854');\n",
              "          const dataTable =\n",
              "            await google.colab.kernel.invokeFunction('convertToInteractive',\n",
              "                                                     [key], {});\n",
              "          if (!dataTable) return;\n",
              "\n",
              "          const docLinkHtml = 'Like what you see? Visit the ' +\n",
              "            '<a target=\"_blank\" href=https://colab.research.google.com/notebooks/data_table.ipynb>data table notebook</a>'\n",
              "            + ' to learn more about interactive tables.';\n",
              "          element.innerHTML = '';\n",
              "          dataTable['output_type'] = 'display_data';\n",
              "          await google.colab.output.renderOutput(dataTable, element);\n",
              "          const docLink = document.createElement('div');\n",
              "          docLink.innerHTML = docLinkHtml;\n",
              "          element.appendChild(docLink);\n",
              "        }\n",
              "      </script>\n",
              "    </div>\n",
              "  </div>\n",
              "  "
            ],
            "text/plain": [
              "      patient_id       age  ...  current_location_y_coordinate  days_since_pcr\n",
              "2758        4126  0.030769  ...                       0.525443        0.000000\n",
              "2388        6904  0.830769  ...                       0.480022        0.059484\n",
              "137        14355  0.153846  ...                       0.481864        0.973931\n",
              "506        11696  0.707692  ...                       0.247308        0.353642\n",
              "2712        5167  0.400000  ...                       0.465575        0.097852\n",
              "\n",
              "[5 rows x 32 columns]"
            ]
          },
          "metadata": {},
          "execution_count": 362
        }
      ]
    },
    {
      "cell_type": "code",
      "source": [
        "blood_type = [None]*(len(train['patient_id']))\n",
        "blood_types = ['blood_type_A+', 'blood_type_A-', 'blood_type_B+', 'blood_type_B-', 'blood_type_AB+', 'blood_type_AB-', 'blood_type_O+', 'blood_type_O-']\n",
        "for person in range(len(train['patient_id'])):\n",
        "  for idx in range(len(blood_types)):\n",
        "    if train[blood_types[idx]].iloc[person] == 1:\n",
        "      blood_type[person] = blood_types[idx][11:]\n",
        "      \n"
      ],
      "metadata": {
        "id": "LenP9_gK9-bq"
      },
      "execution_count": 363,
      "outputs": []
    },
    {
      "cell_type": "code",
      "source": [
        "train['blood_type'] = blood_type"
      ],
      "metadata": {
        "id": "L-TKqh9lDanx"
      },
      "execution_count": 364,
      "outputs": []
    },
    {
      "cell_type": "code",
      "source": [
        "train['blood_type'].isnull().sum()"
      ],
      "metadata": {
        "colab": {
          "base_uri": "https://localhost:8080/"
        },
        "id": "6B9utz6OFbXM",
        "outputId": "9e673866-f9d5-4c79-aa89-82025ea7e76d"
      },
      "execution_count": 365,
      "outputs": [
        {
          "output_type": "execute_result",
          "data": {
            "text/plain": [
              "0"
            ]
          },
          "metadata": {},
          "execution_count": 365
        }
      ]
    },
    {
      "cell_type": "code",
      "source": [
        "fig, ax = plt.subplots(nrows=1, ncols=3, figsize=(18, 5))\n",
        "for i, cur_type in enumerate(['-', 'A', 'B']):\n",
        " filter_mask = train['blood_type'].str.contains(cur_type)\n",
        " sns.histplot(data=train['VirusScore'][~filter_mask], ax=ax[i], stat=\"density\", kde=True,\n",
        " line_kws={\"linewidth\": 3}, color=\"orange\", label=\"not '{}'\".format(cur_type))\n",
        " sns.histplot(data=train['VirusScore'][filter_mask], ax=ax[i], stat=\"density\", kde=True,\n",
        " line_kws={\"linewidth\": 3}, label=cur_type)\n",
        " ax[i].set_title(\"Blood type contains \" + cur_type)\n",
        " ax[i].legend(), ax[i].grid(alpha=0.5)"
      ],
      "metadata": {
        "id": "TPvtL3THwOvH",
        "colab": {
          "base_uri": "https://localhost:8080/",
          "height": 350
        },
        "outputId": "1a8f352b-622c-4481-802c-3540055e0ca9"
      },
      "execution_count": 366,
      "outputs": [
        {
          "output_type": "display_data",
          "data": {
            "image/png": "[encoded data removed]",
            "text/plain": [
              "<Figure size 1296x360 with 3 Axes>"
            ]
          },
          "metadata": {
            "needs_background": "light"
          }
        }
      ]
    },
    {
      "cell_type": "markdown",
      "source": [
        "##Q2"
      ],
      "metadata": {
        "id": "jfWsCXcLq4t2"
      }
    },
    {
      "cell_type": "code",
      "source": [
        "blood_types_with_A = train['blood_type'].str.contains('A')\n",
        "blood_types_with_A = blood_types_with_A.astype(int)\n",
        "train['blood_type_contains_A'] = blood_types_with_A\n"
      ],
      "metadata": {
        "id": "Ho9f54aZq8TD"
      },
      "execution_count": 367,
      "outputs": []
    },
    {
      "cell_type": "code",
      "source": [
        "train = train.drop(columns=['blood_type', 'blood_type_A+', 'blood_type_A-', 'blood_type_AB+', 'blood_type_AB-', 'blood_type_B+',\n",
        "                            'blood_type_B-', 'blood_type_O+', 'blood_type_O-'])"
      ],
      "metadata": {
        "id": "gOtVzv3zsSk2"
      },
      "execution_count": 368,
      "outputs": []
    },
    {
      "cell_type": "code",
      "source": [
        "train.head()"
      ],
      "metadata": {
        "colab": {
          "base_uri": "https://localhost:8080/",
          "height": 287
        },
        "id": "TmNDqcLXsc28",
        "outputId": "cd9d0b1f-e8c1-40f8-d4f1-ce96910338ff"
      },
      "execution_count": 369,
      "outputs": [
        {
          "output_type": "execute_result",
          "data": {
            "text/html": [
              "\n",
              "  <div id=\"df-ae98b881-b0ae-43c4-a992-2c02fcebc9b3\">\n",
              "    <div class=\"colab-df-container\">\n",
              "      <div>\n",
              "<style scoped>\n",
              "    .dataframe tbody tr th:only-of-type {\n",
              "        vertical-align: middle;\n",
              "    }\n",
              "\n",
              "    .dataframe tbody tr th {\n",
              "        vertical-align: top;\n",
              "    }\n",
              "\n",
              "    .dataframe thead th {\n",
              "        text-align: right;\n",
              "    }\n",
              "</style>\n",
              "<table border=\"1\" class=\"dataframe\">\n",
              "  <thead>\n",
              "    <tr style=\"text-align: right;\">\n",
              "      <th></th>\n",
              "      <th>patient_id</th>\n",
              "      <th>age</th>\n",
              "      <th>num_of_siblings</th>\n",
              "      <th>household_income</th>\n",
              "      <th>conversations_per_day</th>\n",
              "      <th>sugar_levels</th>\n",
              "      <th>PCR_01</th>\n",
              "      <th>PCR_02</th>\n",
              "      <th>PCR_03</th>\n",
              "      <th>PCR_04</th>\n",
              "      <th>PCR_05</th>\n",
              "      <th>PCR_07</th>\n",
              "      <th>PCR_08</th>\n",
              "      <th>PCR_10</th>\n",
              "      <th>VirusScore</th>\n",
              "      <th>cough</th>\n",
              "      <th>fever</th>\n",
              "      <th>headache</th>\n",
              "      <th>low_appetite</th>\n",
              "      <th>shortness_of_breath</th>\n",
              "      <th>sex_F</th>\n",
              "      <th>current_location_x_coordinate</th>\n",
              "      <th>current_location_y_coordinate</th>\n",
              "      <th>days_since_pcr</th>\n",
              "      <th>blood_type_contains_A</th>\n",
              "    </tr>\n",
              "  </thead>\n",
              "  <tbody>\n",
              "    <tr>\n",
              "      <th>2758</th>\n",
              "      <td>4126</td>\n",
              "      <td>0.030769</td>\n",
              "      <td>0.666667</td>\n",
              "      <td>0.319165</td>\n",
              "      <td>-9.597661e-01</td>\n",
              "      <td>-0.680412</td>\n",
              "      <td>2.198456e-17</td>\n",
              "      <td>-1.851233</td>\n",
              "      <td>0.690545</td>\n",
              "      <td>0.205996</td>\n",
              "      <td>0.074363</td>\n",
              "      <td>-0.153725</td>\n",
              "      <td>0.663354</td>\n",
              "      <td>0.053964</td>\n",
              "      <td>0.33</td>\n",
              "      <td>0.0</td>\n",
              "      <td>0.0</td>\n",
              "      <td>1.0</td>\n",
              "      <td>1.0</td>\n",
              "      <td>0.0</td>\n",
              "      <td>1.0</td>\n",
              "      <td>0.814160</td>\n",
              "      <td>0.525443</td>\n",
              "      <td>0.000000</td>\n",
              "      <td>1</td>\n",
              "    </tr>\n",
              "    <tr>\n",
              "      <th>2388</th>\n",
              "      <td>6904</td>\n",
              "      <td>0.830769</td>\n",
              "      <td>0.500000</td>\n",
              "      <td>0.822177</td>\n",
              "      <td>-5.463079e-01</td>\n",
              "      <td>0.762415</td>\n",
              "      <td>1.847002e-01</td>\n",
              "      <td>1.775460</td>\n",
              "      <td>-1.273599</td>\n",
              "      <td>1.060212</td>\n",
              "      <td>0.074363</td>\n",
              "      <td>0.303455</td>\n",
              "      <td>0.716775</td>\n",
              "      <td>1.815227</td>\n",
              "      <td>0.15</td>\n",
              "      <td>0.0</td>\n",
              "      <td>0.0</td>\n",
              "      <td>0.0</td>\n",
              "      <td>0.0</td>\n",
              "      <td>0.0</td>\n",
              "      <td>1.0</td>\n",
              "      <td>0.678369</td>\n",
              "      <td>0.480022</td>\n",
              "      <td>0.059484</td>\n",
              "      <td>0</td>\n",
              "    </tr>\n",
              "    <tr>\n",
              "      <th>137</th>\n",
              "      <td>14355</td>\n",
              "      <td>0.153846</td>\n",
              "      <td>0.166667</td>\n",
              "      <td>0.003742</td>\n",
              "      <td>-1.836123e-16</td>\n",
              "      <td>0.540442</td>\n",
              "      <td>-2.545320e-01</td>\n",
              "      <td>-1.817479</td>\n",
              "      <td>-1.103918</td>\n",
              "      <td>1.473467</td>\n",
              "      <td>-1.197466</td>\n",
              "      <td>-0.076736</td>\n",
              "      <td>0.000000</td>\n",
              "      <td>-0.826667</td>\n",
              "      <td>0.35</td>\n",
              "      <td>0.0</td>\n",
              "      <td>0.0</td>\n",
              "      <td>0.0</td>\n",
              "      <td>0.0</td>\n",
              "      <td>0.0</td>\n",
              "      <td>0.0</td>\n",
              "      <td>0.817720</td>\n",
              "      <td>0.481864</td>\n",
              "      <td>0.973931</td>\n",
              "      <td>0</td>\n",
              "    </tr>\n",
              "    <tr>\n",
              "      <th>506</th>\n",
              "      <td>11696</td>\n",
              "      <td>0.707692</td>\n",
              "      <td>0.500000</td>\n",
              "      <td>0.126375</td>\n",
              "      <td>-5.463079e-01</td>\n",
              "      <td>0.706922</td>\n",
              "      <td>4.594262e-01</td>\n",
              "      <td>1.418768</td>\n",
              "      <td>1.451712</td>\n",
              "      <td>-1.401316</td>\n",
              "      <td>-1.197466</td>\n",
              "      <td>0.127806</td>\n",
              "      <td>0.455092</td>\n",
              "      <td>1.815227</td>\n",
              "      <td>0.22</td>\n",
              "      <td>0.0</td>\n",
              "      <td>0.0</td>\n",
              "      <td>0.0</td>\n",
              "      <td>0.0</td>\n",
              "      <td>0.0</td>\n",
              "      <td>1.0</td>\n",
              "      <td>0.718208</td>\n",
              "      <td>0.247308</td>\n",
              "      <td>0.353642</td>\n",
              "      <td>0</td>\n",
              "    </tr>\n",
              "    <tr>\n",
              "      <th>2712</th>\n",
              "      <td>5167</td>\n",
              "      <td>0.400000</td>\n",
              "      <td>0.666667</td>\n",
              "      <td>0.350878</td>\n",
              "      <td>6.940667e-01</td>\n",
              "      <td>-0.846892</td>\n",
              "      <td>2.194438e+00</td>\n",
              "      <td>-1.007298</td>\n",
              "      <td>0.924292</td>\n",
              "      <td>0.714133</td>\n",
              "      <td>2.618022</td>\n",
              "      <td>-0.065685</td>\n",
              "      <td>-0.737842</td>\n",
              "      <td>-0.826667</td>\n",
              "      <td>0.35</td>\n",
              "      <td>0.0</td>\n",
              "      <td>0.0</td>\n",
              "      <td>0.0</td>\n",
              "      <td>0.0</td>\n",
              "      <td>0.0</td>\n",
              "      <td>0.0</td>\n",
              "      <td>0.828391</td>\n",
              "      <td>0.465575</td>\n",
              "      <td>0.097852</td>\n",
              "      <td>0</td>\n",
              "    </tr>\n",
              "  </tbody>\n",
              "</table>\n",
              "</div>\n",
              "      <button class=\"colab-df-convert\" onclick=\"convertToInteractive('df-ae98b881-b0ae-43c4-a992-2c02fcebc9b3')\"\n",
              "              title=\"Convert this dataframe to an interactive table.\"\n",
              "              style=\"display:none;\">\n",
              "        \n",
              "  <svg xmlns=\"http://www.w3.org/2000/svg\" height=\"24px\"viewBox=\"0 0 24 24\"\n",
              "       width=\"24px\">\n",
              "    <path d=\"M0 0h24v24H0V0z\" fill=\"none\"/>\n",
              "    <path d=\"M18.56 5.44l.94 2.06.94-2.06 2.06-.94-2.06-.94-.94-2.06-.94 2.06-2.06.94zm-11 1L8.5 8.5l.94-2.06 2.06-.94-2.06-.94L8.5 2.5l-.94 2.06-2.06.94zm10 10l.94 2.06.94-2.06 2.06-.94-2.06-.94-.94-2.06-.94 2.06-2.06.94z\"/><path d=\"M17.41 7.96l-1.37-1.37c-.4-.4-.92-.59-1.43-.59-.52 0-1.04.2-1.43.59L10.3 9.45l-7.72 7.72c-.78.78-.78 2.05 0 2.83L4 21.41c.39.39.9.59 1.41.59.51 0 1.02-.2 1.41-.59l7.78-7.78 2.81-2.81c.8-.78.8-2.07 0-2.86zM5.41 20L4 18.59l7.72-7.72 1.47 1.35L5.41 20z\"/>\n",
              "  </svg>\n",
              "      </button>\n",
              "      \n",
              "  <style>\n",
              "    .colab-df-container {\n",
              "      display:flex;\n",
              "      flex-wrap:wrap;\n",
              "      gap: 12px;\n",
              "    }\n",
              "\n",
              "    .colab-df-convert {\n",
              "      background-color: #E8F0FE;\n",
              "      border: none;\n",
              "      border-radius: 50%;\n",
              "      cursor: pointer;\n",
              "      display: none;\n",
              "      fill: #1967D2;\n",
              "      height: 32px;\n",
              "      padding: 0 0 0 0;\n",
              "      width: 32px;\n",
              "    }\n",
              "\n",
              "    .colab-df-convert:hover {\n",
              "      background-color: #E2EBFA;\n",
              "      box-shadow: 0px 1px 2px rgba(60, 64, 67, 0.3), 0px 1px 3px 1px rgba(60, 64, 67, 0.15);\n",
              "      fill: #174EA6;\n",
              "    }\n",
              "\n",
              "    [theme=dark] .colab-df-convert {\n",
              "      background-color: #3B4455;\n",
              "      fill: #D2E3FC;\n",
              "    }\n",
              "\n",
              "    [theme=dark] .colab-df-convert:hover {\n",
              "      background-color: #434B5C;\n",
              "      box-shadow: 0px 1px 3px 1px rgba(0, 0, 0, 0.15);\n",
              "      filter: drop-shadow(0px 1px 2px rgba(0, 0, 0, 0.3));\n",
              "      fill: #FFFFFF;\n",
              "    }\n",
              "  </style>\n",
              "\n",
              "      <script>\n",
              "        const buttonEl =\n",
              "          document.querySelector('#df-ae98b881-b0ae-43c4-a992-2c02fcebc9b3 button.colab-df-convert');\n",
              "        buttonEl.style.display =\n",
              "          google.colab.kernel.accessAllowed ? 'block' : 'none';\n",
              "\n",
              "        async function convertToInteractive(key) {\n",
              "          const element = document.querySelector('#df-ae98b881-b0ae-43c4-a992-2c02fcebc9b3');\n",
              "          const dataTable =\n",
              "            await google.colab.kernel.invokeFunction('convertToInteractive',\n",
              "                                                     [key], {});\n",
              "          if (!dataTable) return;\n",
              "\n",
              "          const docLinkHtml = 'Like what you see? Visit the ' +\n",
              "            '<a target=\"_blank\" href=https://colab.research.google.com/notebooks/data_table.ipynb>data table notebook</a>'\n",
              "            + ' to learn more about interactive tables.';\n",
              "          element.innerHTML = '';\n",
              "          dataTable['output_type'] = 'display_data';\n",
              "          await google.colab.output.renderOutput(dataTable, element);\n",
              "          const docLink = document.createElement('div');\n",
              "          docLink.innerHTML = docLinkHtml;\n",
              "          element.appendChild(docLink);\n",
              "        }\n",
              "      </script>\n",
              "    </div>\n",
              "  </div>\n",
              "  "
            ],
            "text/plain": [
              "      patient_id       age  ...  days_since_pcr  blood_type_contains_A\n",
              "2758        4126  0.030769  ...        0.000000                      1\n",
              "2388        6904  0.830769  ...        0.059484                      0\n",
              "137        14355  0.153846  ...        0.973931                      0\n",
              "506        11696  0.707692  ...        0.353642                      0\n",
              "2712        5167  0.400000  ...        0.097852                      0\n",
              "\n",
              "[5 rows x 25 columns]"
            ]
          },
          "metadata": {},
          "execution_count": 369
        }
      ]
    },
    {
      "cell_type": "markdown",
      "source": [
        "# Section 2"
      ],
      "metadata": {
        "id": "KW2nT3h2Bop8"
      }
    },
    {
      "cell_type": "code",
      "source": [
        "train2, validation = train_test_split(train, test_size = 0.2, random_state = 8)"
      ],
      "metadata": {
        "id": "D6UHbxHLBwnV"
      },
      "execution_count": 370,
      "outputs": []
    },
    {
      "cell_type": "markdown",
      "source": [
        "### Linear Regressor Module"
      ],
      "metadata": {
        "id": "Q-4YTrljCZrM"
      }
    },
    {
      "cell_type": "code",
      "source": [
        "from sklearn.base import BaseEstimator, RegressorMixin\n",
        "import numpy as np\n",
        "\n",
        "class LinearRegressor(BaseEstimator, RegressorMixin):\n",
        "  \"\"\"\n",
        "  Custom linear regression model\n",
        "  \"\"\"\n",
        "  def __init__(self, lr: float = 1e-5):\n",
        "      \"\"\"\n",
        "      Initialize an instance of this class.\n",
        "      ** Do not edit this method **\n",
        "\n",
        "      :param lr: the SGD learning rate (step size)\n",
        "      \"\"\"\n",
        "      self.lr = lr\n",
        "      self.batch_size = 32\n",
        "      self.w = None\n",
        "      self.b = 0.0\n",
        "\n",
        "  # Initialize a random weight vector\n",
        "  def init_solution(self, n_features: int):\n",
        "      \"\"\"\n",
        "      Randomize an initial solution (weight vector)\n",
        "      ** Do not edit this method **\n",
        "\n",
        "      :param n_features:\n",
        "      \"\"\"\n",
        "      self.w = np.zeros(n_features)\n",
        "      self.b = 0.0\n",
        "\n",
        "  @staticmethod\n",
        "  def loss(w, b: float, X, y):\n",
        "      \"\"\"\n",
        "      Compute the MSE objective loss.\n",
        "\n",
        "      :param w: weight vector for linear regression; array of shape (n_features,)\n",
        "      :param b: bias scalar for linear regression\n",
        "      :param X: samples for loss computation; array of shape (n_samples, n_features)\n",
        "      :param y: targets for loss computation; array of shape (n_samples,)\n",
        "      :return: the linear regression objective loss (float scalar)\n",
        "      \"\"\"\n",
        "\n",
        "      # TODO: complete the loss calculation\n",
        "      loss = None\n",
        "\n",
        "      m = X.shape[0]\n",
        "      b_vector = np.ones(m)*b\n",
        "      loss = (1/m)*((np.linalg.norm(X.dot(w) + b_vector - y))**2)\n",
        "\n",
        "      return loss\n",
        "\n",
        "  @staticmethod\n",
        "  def gradient(w, b: float, X, y):\n",
        "      \"\"\"\n",
        "      Compute the (analytical) linear regression objective gradient.\n",
        "\n",
        "      :param w: weight vector for linear regression; array of shape (n_features,)\n",
        "      :param b: bias scalar for linear regression\n",
        "      :param X: samples for loss computation; array of shape (n_samples, n_features)\n",
        "      :param y: targets for loss computation; array of shape (n_samples,)\n",
        "      :return: a tuple with (the gradient of the weights, the gradient of the bias)\n",
        "      \"\"\"\n",
        "      # TODO: calculate the analytical gradient w.r.t w and b\n",
        "      g_w = None\n",
        "      g_b = 0.0\n",
        "\n",
        "      m = X.shape[0]\n",
        "      g_w = ((2/m)*(np.transpose(X))).dot(X.dot(w) + np.ones(m)*b - y)\n",
        "\n",
        "      g_b = ((2/m)*(np.transpose(np.ones(m)))).dot(X.dot(w) + np.ones(m)*b - y)\n",
        "\n",
        "      return g_w, g_b\n",
        "\n",
        "  def fit_with_logs(self, X, y, max_iter: int = 1000, keep_losses: bool = True,\n",
        "                    X_val  =None, y_val = None):\n",
        "      \"\"\"\n",
        "      Fit the model according to the given training data.\n",
        "\n",
        "      :param X: training samples; array of shape (n_samples, n_features)\n",
        "      :param y: training targets; array of shape (n_samples,)\n",
        "      :param max_iter: number of SGD iterations\n",
        "      :param keep_losses: should compute the train & val losses during training?\n",
        "      :param X_val: validation samples to compute the loss for (for logs only)\n",
        "      :param y_val: validation labels to compute the loss for (for logs only)\n",
        "      :return: training and validation losses during training\n",
        "      \"\"\"\n",
        "      # Initialize learned parameters\n",
        "      self.init_solution(X.shape[1])\n",
        "\n",
        "      train_losses = []\n",
        "      val_losses = []\n",
        "\n",
        "      if keep_losses:\n",
        "          train_losses.append(self.loss(self.w, self.b, X, y))\n",
        "          val_losses.append(self.loss(self.w, self.b, X_val, y_val))\n",
        "\n",
        "      # Iterate over batches (SGD)\n",
        "      for itr in range(0, max_iter):\n",
        "          start_idx = (itr * self.batch_size) % X.shape[0]\n",
        "          end_idx = min(X.shape[0], start_idx + self.batch_size)\n",
        "          batch_X = X[start_idx: end_idx]\n",
        "          batch_y = y[start_idx: end_idx]\n",
        "\n",
        "          # TODO: Compute the gradient for the current *batch*\n",
        "          g_w, g_b = self.gradient(self.w, self.b, X, y)\n",
        "\n",
        "          # Perform a gradient step\n",
        "          # TODO: update the learned parameters correctly\n",
        "          self.w = self.w - self.lr * g_w\n",
        "          self.b = self.b - self.lr * g_b\n",
        "\n",
        "          if keep_losses:\n",
        "              train_losses.append(self.loss(self.w, self.b,  X, y))\n",
        "              val_losses.append(self.loss(self.w, self.b,  X_val, y_val))\n",
        "\n",
        "      return train_losses, val_losses\n",
        "\n",
        "  def fit(self, X, y, max_iter: int = 1000):\n",
        "      \"\"\"\n",
        "      Fit the model according to the given training data.\n",
        "      ** Do not edit this method **\n",
        "\n",
        "      :param X: training samples; array of shape (n_samples, n_features)\n",
        "      :param y: training targets; array of shape (n_samples,)\n",
        "      :param max_iter: number of SGD iterations\n",
        "      \"\"\"\n",
        "      self.fit_with_logs(X, y, max_iter=max_iter, keep_losses=False)\n",
        "\n",
        "      return self\n",
        "\n",
        "  def predict(self, X):\n",
        "      \"\"\"\n",
        "      Regress labels on samples in X.\n",
        "\n",
        "      :param X: samples for prediction; array of shape (n_samples, n_features)\n",
        "      :return: Predicted continuous labels for samples in X; array of shape (n_samples,)\n",
        "      \"\"\"\n",
        "\n",
        "      # TODO: Compute\n",
        "      y_pred = None\n",
        "\n",
        "      m = X.shape[0]\n",
        "      y_pred = X.dot(self.w) + np.ones(m) * self.b\n",
        "\n",
        "      return y_pred"
      ],
      "metadata": {
        "id": "O_7xOVabCepn"
      },
      "execution_count": 371,
      "outputs": []
    },
    {
      "cell_type": "markdown",
      "source": [
        "### Verify Gradients"
      ],
      "metadata": {
        "id": "xTMJfqnyZYoH"
      }
    },
    {
      "cell_type": "code",
      "source": [
        "def numerical_subgradient(w, b, X, y, delta=1e-4):\n",
        "    w_ = w.copy()\n",
        "    g_w = np.zeros_like(w_)\n",
        "    orig_objective = LinearRegressor.loss(w_, b, X, y)\n",
        "    for i in range(g_w.shape[0]):\n",
        "        w_[i] += delta\n",
        "        perturbed_objective = LinearRegressor.loss(w_, b, X, y)\n",
        "        w_[i] -= delta\n",
        "        g_w[i] = (perturbed_objective - orig_objective) / delta\n",
        "\n",
        "    g_b = (LinearRegressor.loss(w_, b + delta, X, y) - orig_objective) / delta\n",
        "    return g_w, g_b\n",
        "\n",
        "\n",
        "def compare_gradients(X, y, deltas, C=1, REPEATS=10, figsize=(10, 6)):\n",
        "    residual_means_w = []\n",
        "    residual_means_b = []\n",
        "\n",
        "    for delta in deltas:\n",
        "        residuals_w = []\n",
        "        residuals_b = []\n",
        "\n",
        "        for _ in range(REPEATS):\n",
        "            # Randomize vectors in which the gradient is computed\n",
        "            w = np.random.randn(X.shape[1])\n",
        "            b = np.random.randn(1)\n",
        "\n",
        "            # Compute the two types of gradients\n",
        "            analytic_grad_w, analytic_grad_b = LinearRegressor.gradient(w, b, X, y)\n",
        "\n",
        "            numeric_grad_w, numeric_grad_b = numerical_subgradient(w, b, X, y, delta=delta)\n",
        "\n",
        "            residual_w = np.linalg.norm(numeric_grad_w - analytic_grad_w)\n",
        "            residuals_w.append(residual_w)\n",
        "\n",
        "            residual_b = np.linalg.norm(numeric_grad_b - analytic_grad_b)\n",
        "            residuals_b.append(residual_b)\n",
        "\n",
        "        residual_means_w.append(np.mean(residuals_w))\n",
        "        residual_means_b.append(np.mean(residuals_b))\n",
        "\n",
        "    fig, axs = plt.subplots(nrows=1, ncols=2, sharey=True, figsize=(16, 8))\n",
        "    plt.suptitle('Residuals of analytical and numerical gradients',\n",
        "                 fontsize=22, fontweight=\"bold\")\n",
        "    axs[0].set_title(r'Residuals of $\\nabla_{w}L\\left(w,b\\right)$')\n",
        "    axs[1].set_title(r'Residuals of $\\frac{\\partial}{\\partial{b}}L\\left(w,b\\right)$')\n",
        "    axs[0].plot(deltas, residual_means_w, linewidth=3)\n",
        "    axs[1].plot(deltas, residual_means_b, linewidth=3)\n",
        "    axs[0].set_yscale('log')\n",
        "    axs[0].set_xscale('log')\n",
        "    axs[1].set_yscale('log')\n",
        "    axs[1].set_xscale('log')\n",
        "    axs[0].set_xlabel('$\\delta_w$', fontsize=18)\n",
        "    axs[1].set_xlabel('$\\delta_b$', fontsize=18)\n",
        "    axs[0].set_ylabel(r'$\\left\\Vert \\nabla_{w}L\\left(w,b\\right) - u_{\\delta_w} \\left(w,b\\right)\\right\\Vert$',\n",
        "                      fontsize=18)\n",
        "    axs[1].set_ylabel(\n",
        "        r'$\\left\\Vert \\frac{\\partial}{\\partial{b}}L\\left(w,b\\right) - u_{\\delta_b} \\left(w,b\\right)\\right\\Vert$',\n",
        "        fontsize=18)\n",
        "\n",
        "    axs[0].grid(alpha=0.5)\n",
        "    axs[1].grid(alpha=0.5)\n",
        "    plt.show()\n"
      ],
      "metadata": {
        "id": "S5Sdz-igZdgK"
      },
      "execution_count": 372,
      "outputs": []
    },
    {
      "cell_type": "markdown",
      "source": [
        "##Q4"
      ],
      "metadata": {
        "id": "IINh2j8UZnoQ"
      }
    },
    {
      "cell_type": "code",
      "source": [
        "X_train = train2.drop(columns=['VirusScore', 'patient_id'])\n",
        "y_train = train2['VirusScore']\n",
        "compare_gradients(X_train, y_train, deltas=np.logspace(-7, -2, 9))"
      ],
      "metadata": {
        "colab": {
          "base_uri": "https://localhost:8080/",
          "height": 567
        },
        "id": "MyD1I4Q6Zqc2",
        "outputId": "09ba3f92-345c-4ce6-b6b7-1d4197d2a400"
      },
      "execution_count": 373,
      "outputs": [
        {
          "output_type": "display_data",
          "data": {
            "image/png": "[encoded data removed]",
            "text/plain": [
              "<Figure size 1152x576 with 2 Axes>"
            ]
          },
          "metadata": {
            "needs_background": "light"
          }
        }
      ]
    },
    {
      "cell_type": "markdown",
      "source": [
        "## test LR"
      ],
      "metadata": {
        "id": "xaNc2drPcRPD"
      }
    },
    {
      "cell_type": "code",
      "source": [
        "import matplotlib.pyplot as plt\n",
        "import numpy as np\n",
        "\n",
        "def test_lr(X_train, y_train, X_val, y_val, max_iter = 1500):\n",
        "  lr_list = np.logspace(-9, -1, 9)\n",
        "\n",
        "  fig, axs = plt.subplots(3, 3, sharey=True, figsize=(20, 12))\n",
        "  plt.tight_layout()\n",
        "  fig.subplots_adjust(hspace=0.5)\n",
        "  \n",
        "  axs = np.ravel(axs)\n",
        "  for i, lr in enumerate(lr_list):\n",
        "    cur_linear_reggressor = LinearRegressor(lr)\n",
        "    train_losses, val_losses = cur_linear_reggressor.fit_with_logs(X_train, y_train, keep_losses=True, X_val=X_val, y_val=y_val, max_iter = max_iter)\n",
        "    print('lr size = '+str(lr)+', Best train loss = '+str(min(train_losses))+', Best validation loss = '+str(min(val_losses)))\n",
        "\n",
        "    iterations = np.arange(max_iter + 1)\n",
        "    axs[i].semilogy(iterations, train_losses, label=\"Train\")\n",
        "    axs[i].semilogy(iterations, val_losses, label=\"Validation\")\n",
        "    axs[i].grid(alpha=0.5)\n",
        "    axs[i].legend()\n",
        "    axs[i].set_title('lr = '+str(lr))\n",
        "    axs[i].set_xlabel('iteration')\n",
        "    axs[i].set_ylabel('MSE')\n"
      ],
      "metadata": {
        "id": "9neGKVPbcTw1"
      },
      "execution_count": 374,
      "outputs": []
    },
    {
      "cell_type": "markdown",
      "source": [
        "##Q5"
      ],
      "metadata": {
        "id": "jYWP3toMcYeA"
      }
    },
    {
      "cell_type": "code",
      "source": [
        "X_val = validation.drop(columns=['VirusScore', 'patient_id'])\n",
        "y_val = validation['VirusScore']\n",
        "test_lr(X_train, y_train, X_val, y_val)\n"
      ],
      "metadata": {
        "colab": {
          "base_uri": "https://localhost:8080/",
          "height": 1000
        },
        "id": "RCbgoqujcazA",
        "outputId": "07d6f388-0e54-414d-e1c2-bd92e88c1ab8"
      },
      "execution_count": 375,
      "outputs": [
        {
          "output_type": "stream",
          "name": "stdout",
          "text": [
            "lr size = 1e-09, Best train loss = 0.10683741370305165, Best validation loss = 0.10263674271014808\n",
            "lr size = 1e-08, Best train loss = 0.10682491925798165, Best validation loss = 0.10262430308177521\n",
            "lr size = 1e-07, Best train loss = 0.10670007152553977, Best validation loss = 0.10250000379614908\n",
            "lr size = 1e-06, Best train loss = 0.10546121547742945, Best validation loss = 0.10126665996949719\n",
            "lr size = 1e-05, Best train loss = 0.09398616561478006, Best validation loss = 0.08984928531913461\n",
            "lr size = 0.0001, Best train loss = 0.03647935320485327, Best validation loss = 0.03302036686495151\n",
            "lr size = 0.001, Best train loss = 0.013129191887154478, Best validation loss = 0.01192510364662308\n",
            "lr size = 0.01, Best train loss = 0.008173729746633402, Best validation loss = 0.008491787051292195\n",
            "lr size = 0.1, Best train loss = 0.008004924193487398, Best validation loss = 0.00844857806558308\n"
          ]
        },
        {
          "output_type": "display_data",
          "data": {
            "image/png": "[encoded data removed]",
            "text/plain": [
              "<Figure size 1440x864 with 9 Axes>"
            ]
          },
          "metadata": {
            "needs_background": "light"
          }
        }
      ]
    },
    {
      "cell_type": "markdown",
      "source": [
        "#Section 3"
      ],
      "metadata": {
        "id": "pRIgzjh-85-m"
      }
    },
    {
      "cell_type": "markdown",
      "source": [
        "##Q6"
      ],
      "metadata": {
        "id": "BjRqw4NE89qy"
      }
    },
    {
      "cell_type": "code",
      "source": [
        "X_train = train.drop(columns=['patient_id', 'VirusScore'])\n",
        "y_train = train['VirusScore']\n",
        "\n",
        "import sklearn.dummy as dummy\n",
        "from sklearn.model_selection import cross_validate\n",
        "from sklearn.model_selection import cross_val_score\n",
        "\n",
        "dummy_regr = dummy.DummyRegressor(strategy='mean')\n",
        "dummy_scores = cross_validate(dummy_regr, X_train, y_train, cv=5, scoring='neg_mean_squared_error', return_train_score=True)\n",
        "\n",
        "train_results_means = []\n",
        "test_results_means = []\n",
        "train_results_means.append(np.abs(dummy_scores['train_score'].mean()))\n",
        "test_results_means.append(np.abs(dummy_scores['test_score'].mean()))"
      ],
      "metadata": {
        "id": "ceWdXpda8_Jf"
      },
      "execution_count": 376,
      "outputs": []
    },
    {
      "cell_type": "code",
      "source": [
        "print('dummy train mse', train_results_means)\n",
        "print('dummy validation mse', test_results_means)"
      ],
      "metadata": {
        "colab": {
          "base_uri": "https://localhost:8080/"
        },
        "id": "tyUV3C_VZSS4",
        "outputId": "466d7691-b1a8-434d-ad45-f4e93fb999c1"
      },
      "execution_count": 377,
      "outputs": [
        {
          "output_type": "stream",
          "name": "stdout",
          "text": [
            "dummy train mse [0.020104383973524306]\n",
            "dummy validation mse [0.020117654654947918]\n"
          ]
        }
      ]
    },
    {
      "cell_type": "code",
      "source": [
        "# retrain dummy regressor\n",
        "dummy_regr.fit(X_train, y_train)"
      ],
      "metadata": {
        "colab": {
          "base_uri": "https://localhost:8080/"
        },
        "id": "VuzThyKj_ura",
        "outputId": "67db95a6-4cdd-4fca-98b4-786972d8c961"
      },
      "execution_count": 378,
      "outputs": [
        {
          "output_type": "execute_result",
          "data": {
            "text/plain": [
              "DummyRegressor()"
            ]
          },
          "metadata": {},
          "execution_count": 378
        }
      ]
    },
    {
      "cell_type": "markdown",
      "source": [
        "#Section 4"
      ],
      "metadata": {
        "id": "8iX2Q8Kr_7Au"
      }
    },
    {
      "cell_type": "markdown",
      "source": [
        "##Q7"
      ],
      "metadata": {
        "id": "luU2f1bJ_8kY"
      }
    },
    {
      "cell_type": "code",
      "source": [
        "from sklearn.linear_model import Ridge \n",
        "\n",
        "alphas = np.logspace(-3, 7, 12)\n",
        "train_results_means = []\n",
        "test_results_means = []\n",
        "\n",
        "for alpha in alphas:\n",
        "  ridge_regr = Ridge(fit_intercept=True, alpha=alpha)\n",
        "  scores = cross_validate(ridge_regr, X_train, y_train, cv=5, scoring='neg_mean_squared_error', return_train_score=True)\n",
        "  train_results_means.append(np.abs(scores['train_score'].mean()))\n",
        "  test_results_means.append(np.abs(scores['test_score'].mean()))"
      ],
      "metadata": {
        "id": "EgJ1C3WX__N2"
      },
      "execution_count": 379,
      "outputs": []
    },
    {
      "cell_type": "code",
      "source": [
        "dummy_res = np.abs(dummy_scores['test_score'].mean())\n",
        "\n",
        "fig, ax = plt.subplots()\n",
        "ax.plot(alphas, train_results_means, Label='Train Scores')\n",
        "ax.plot(alphas, test_results_means, Label='Validation Scores')\n",
        "ax.plot(alphas, [dummy_res]*12, Label ='Dummy Scores')\n",
        "plt.legend()\n",
        "plt.grid()\n",
        "plt.title('Train and Validation Accuracies wrt alpha')\n",
        "ax.set_xscale('log')\n",
        "ax.set_xlabel('alpha')\n",
        "ax.set_ylabel('mse')\n"
      ],
      "metadata": {
        "colab": {
          "base_uri": "https://localhost:8080/",
          "height": 316
        },
        "id": "H8ODJ9TfN-IK",
        "outputId": "29a0d42b-ecac-4cb7-aacd-ee9db0a80c36"
      },
      "execution_count": 380,
      "outputs": [
        {
          "output_type": "execute_result",
          "data": {
            "text/plain": [
              "Text(0, 0.5, 'mse')"
            ]
          },
          "metadata": {},
          "execution_count": 380
        },
        {
          "output_type": "display_data",
          "data": {
            "image/png": "[encoded data removed]",
            "text/plain": [
              "<Figure size 432x288 with 1 Axes>"
            ]
          },
          "metadata": {
            "needs_background": "light"
          }
        }
      ]
    },
    {
      "cell_type": "code",
      "source": [
        "min_alpha_idx = min(range(len(test_results_means)), key=test_results_means.__getitem__)\n",
        "min_alpha = alphas[min_alpha_idx]\n",
        "print(min_alpha)"
      ],
      "metadata": {
        "colab": {
          "base_uri": "https://localhost:8080/"
        },
        "id": "Tijy6A2u-w7N",
        "outputId": "7eec2afb-9439-4d85-c2eb-d03757e91e17"
      },
      "execution_count": 381,
      "outputs": [
        {
          "output_type": "stream",
          "name": "stdout",
          "text": [
            "0.5336699231206307\n"
          ]
        }
      ]
    },
    {
      "cell_type": "code",
      "source": [
        "print('ridge train mse', train_results_means[min_alpha_idx])\n",
        "print('ridge min train mse', min(train_results_means))\n",
        "print('ridge validatrion mse', min(test_results_means))"
      ],
      "metadata": {
        "colab": {
          "base_uri": "https://localhost:8080/"
        },
        "id": "pv5WgSOZZ0l1",
        "outputId": "095d951b-c392-4151-f56c-2b88b1522e4d"
      },
      "execution_count": 382,
      "outputs": [
        {
          "output_type": "stream",
          "name": "stdout",
          "text": [
            "ridge train mse 0.008049010023607115\n",
            "ridge min train mse 0.008048886087414015\n",
            "ridge validatrion mse 0.008229431038889191\n"
          ]
        }
      ]
    },
    {
      "cell_type": "code",
      "source": [
        "best_alpha_ridge_regr = Ridge(fit_intercept=True, alpha=min_alpha)\n",
        "best_alpha_ridge_regr.fit(X_train, y_train)"
      ],
      "metadata": {
        "colab": {
          "base_uri": "https://localhost:8080/"
        },
        "id": "BKcWvh3dSdU6",
        "outputId": "af6badab-8d60-45e5-dc34-664db4e85e54"
      },
      "execution_count": 383,
      "outputs": [
        {
          "output_type": "execute_result",
          "data": {
            "text/plain": [
              "Ridge(alpha=0.5336699231206307)"
            ]
          },
          "metadata": {},
          "execution_count": 383
        }
      ]
    },
    {
      "cell_type": "markdown",
      "source": [
        "##Q9"
      ],
      "metadata": {
        "id": "Np2qVEmUUnkU"
      }
    },
    {
      "cell_type": "code",
      "source": [
        "coefficients = np.abs(best_alpha_ridge_regr.coef_)\n",
        "features_names = list(X_train.columns)\n",
        "coefficients = list(coefficients)"
      ],
      "metadata": {
        "id": "6fsGq-8TXFkG"
      },
      "execution_count": 384,
      "outputs": []
    },
    {
      "cell_type": "code",
      "source": [
        "max_coefficient_features = []\n",
        "coefficients_copy = copy.deepcopy(coefficients)\n",
        "for _ in range(5):\n",
        "  max_coefficient = max(coefficients_copy)\n",
        "  max_coefficient_idx = coefficients_copy.index(max_coefficient)\n",
        "  max_coefficient_feature = features_names[max_coefficient_idx]\n",
        "  features_names.remove(max_coefficient_feature)\n",
        "  coefficients_copy.remove(max_coefficient)\n",
        "  max_coefficient_features.append((max_coefficient_feature, max_coefficient))\n",
        "\n",
        "print(max_coefficient_features)"
      ],
      "metadata": {
        "colab": {
          "base_uri": "https://localhost:8080/"
        },
        "id": "_yhwUM7hXNNB",
        "outputId": "45fdb915-39d6-41ec-e86a-55eb378ee746"
      },
      "execution_count": 385,
      "outputs": [
        {
          "output_type": "stream",
          "name": "stdout",
          "text": [
            "[('shortness_of_breath', 0.24901172556372625), ('num_of_siblings', 0.14958042960731724), ('fever', 0.11775319779935671), ('blood_type_contains_A', 0.09734793327764456), ('household_income', 0.04409165403557111)]\n"
          ]
        }
      ]
    },
    {
      "cell_type": "markdown",
      "source": [
        "##Q10"
      ],
      "metadata": {
        "id": "OCW0btRNcIZ1"
      }
    },
    {
      "cell_type": "code",
      "source": [
        "coefficients.sort(reverse=True)\n",
        "fig, ax = plt.subplots()\n",
        "x = np.arange(0, X_train.columns.size)\n",
        "ax.plot(x, coefficients)\n",
        "ax.set_xlabel('feature index')\n",
        "ax.set_ylabel('coefficient absolute value')\n",
        "ax.set_title('Feature absolute Coefficient Value')\n",
        "plt.grid()\n",
        "plt.show()"
      ],
      "metadata": {
        "colab": {
          "base_uri": "https://localhost:8080/",
          "height": 295
        },
        "id": "T2ZSApqjUk8q",
        "outputId": "5731d94e-5f38-494f-c0ff-a759b732e7b4"
      },
      "execution_count": 386,
      "outputs": [
        {
          "output_type": "display_data",
          "data": {
            "image/png": "[encoded data removed]",
            "text/plain": [
              "<Figure size 432x288 with 1 Axes>"
            ]
          },
          "metadata": {
            "needs_background": "light"
          }
        }
      ]
    },
    {
      "cell_type": "markdown",
      "source": [
        "#Section 5"
      ],
      "metadata": {
        "id": "dK7Q2mDic_zD"
      }
    },
    {
      "cell_type": "markdown",
      "source": [
        "##Q11"
      ],
      "metadata": {
        "id": "KtFGVBfzds3X"
      }
    },
    {
      "cell_type": "code",
      "source": [
        "from sklearn.linear_model import Lasso \n",
        "alphas = np.logspace(-6, 6, 12)\n",
        "train_results_means = []\n",
        "test_results_means = []\n",
        "\n",
        "for alpha in alphas:\n",
        "  lasso_regr = Lasso(fit_intercept=True, alpha=alpha)\n",
        "  scores = cross_validate(lasso_regr, X_train, y_train, cv=5, scoring='neg_mean_squared_error', return_train_score=True)\n",
        "  train_results_means.append(np.abs(scores['train_score'].mean()))\n",
        "  test_results_means.append(np.abs(scores['test_score'].mean()))"
      ],
      "metadata": {
        "id": "LRi3CMkZdxdO"
      },
      "execution_count": 387,
      "outputs": []
    },
    {
      "cell_type": "code",
      "source": [
        "dummy_res = np.abs(dummy_scores['test_score'].mean())\n",
        "\n",
        "fig, ax = plt.subplots()\n",
        "ax.plot(alphas, train_results_means, Label='Train Scores')\n",
        "ax.plot(alphas, test_results_means, Label='Validation Scores')\n",
        "ax.plot(alphas, [dummy_res]*12, Label ='Dummy Scores')\n",
        "plt.legend()\n",
        "plt.grid()\n",
        "plt.title('Train and Validation Accuracies wrt alpha')\n",
        "ax.set_xscale('log')\n",
        "ax.set_xlabel('alpha')\n",
        "ax.set_ylabel('mse')"
      ],
      "metadata": {
        "colab": {
          "base_uri": "https://localhost:8080/",
          "height": 316
        },
        "id": "BGrE0ppeeAmi",
        "outputId": "28c75849-9c02-4dfa-8548-555aa7cce09d"
      },
      "execution_count": 388,
      "outputs": [
        {
          "output_type": "execute_result",
          "data": {
            "text/plain": [
              "Text(0, 0.5, 'mse')"
            ]
          },
          "metadata": {},
          "execution_count": 388
        },
        {
          "output_type": "display_data",
          "data": {
            "image/png": "[encoded data removed]",
            "text/plain": [
              "<Figure size 432x288 with 1 Axes>"
            ]
          },
          "metadata": {
            "needs_background": "light"
          }
        }
      ]
    },
    {
      "cell_type": "code",
      "source": [
        "min_alpha_idx = min(range(len(test_results_means)), key=test_results_means.__getitem__)\n",
        "min_alpha_lasso = alphas[min_alpha_idx]\n",
        "print(min_alpha_lasso)"
      ],
      "metadata": {
        "colab": {
          "base_uri": "https://localhost:8080/"
        },
        "id": "1fEyREaGAFUv",
        "outputId": "a7104df5-4209-4092-c51b-9d047c26e7cc"
      },
      "execution_count": 389,
      "outputs": [
        {
          "output_type": "stream",
          "name": "stdout",
          "text": [
            "0.0001519911082952933\n"
          ]
        }
      ]
    },
    {
      "cell_type": "code",
      "source": [
        "print('lasso train min mse', min(train_results_means))\n",
        "print('lasso train mse', train_results_means[min_alpha_idx])\n",
        "print('lasso validation mse', min(test_results_means))"
      ],
      "metadata": {
        "colab": {
          "base_uri": "https://localhost:8080/"
        },
        "id": "fNmuU7dJahP6",
        "outputId": "0b2fc1af-941c-4b4c-ad19-ecf923edbf48"
      },
      "execution_count": 390,
      "outputs": [
        {
          "output_type": "stream",
          "name": "stdout",
          "text": [
            "lasso train min mse 0.008048886263401368\n",
            "lasso train mse 0.00805266173584907\n",
            "lasso validation mse 0.008219139821378448\n"
          ]
        }
      ]
    },
    {
      "cell_type": "code",
      "source": [
        "# best performance hyperparameter is alpha=10^-5\n",
        "best_alpha_lasso_regr = Lasso(fit_intercept=True, alpha=min_alpha_lasso)\n",
        "best_alpha_lasso_regr.fit(X_train, y_train)"
      ],
      "metadata": {
        "colab": {
          "base_uri": "https://localhost:8080/"
        },
        "id": "qonIb6J0eutw",
        "outputId": "e96481f3-b513-4f48-c663-119bcb29513f"
      },
      "execution_count": 391,
      "outputs": [
        {
          "output_type": "execute_result",
          "data": {
            "text/plain": [
              "Lasso(alpha=0.0001519911082952933)"
            ]
          },
          "metadata": {},
          "execution_count": 391
        }
      ]
    },
    {
      "cell_type": "markdown",
      "source": [
        "##Q14"
      ],
      "metadata": {
        "id": "oGc8kp2Le_Yc"
      }
    },
    {
      "cell_type": "code",
      "source": [
        "coefficients = np.abs(best_alpha_lasso_regr.coef_)\n",
        "features_names = list(X_train.columns)\n",
        "coefficients = list(coefficients)"
      ],
      "metadata": {
        "id": "zkk9vvckfApj"
      },
      "execution_count": 392,
      "outputs": []
    },
    {
      "cell_type": "code",
      "source": [
        "max_coefficient_features = []\n",
        "coefficients_copy = copy.deepcopy(coefficients)\n",
        "for _ in range(5):\n",
        "  max_coefficient = max(coefficients_copy)\n",
        "  max_coefficient_idx = coefficients_copy.index(max_coefficient)\n",
        "  max_coefficient_feature = features_names[max_coefficient_idx]\n",
        "  features_names.remove(max_coefficient_feature)\n",
        "  coefficients_copy.remove(max_coefficient)\n",
        "  max_coefficient_features.append((max_coefficient_feature, max_coefficient))\n",
        "\n",
        "print(max_coefficient_features)"
      ],
      "metadata": {
        "colab": {
          "base_uri": "https://localhost:8080/"
        },
        "id": "pwLbeCeDfGYN",
        "outputId": "830011bf-d879-4da8-f965-51f7850a5c59"
      },
      "execution_count": 393,
      "outputs": [
        {
          "output_type": "stream",
          "name": "stdout",
          "text": [
            "[('shortness_of_breath', 0.24949493635101844), ('num_of_siblings', 0.146943860602671), ('fever', 0.11647161851074479), ('blood_type_contains_A', 0.09670782550150298), ('household_income', 0.04124200487387142)]\n"
          ]
        }
      ]
    },
    {
      "cell_type": "markdown",
      "source": [
        "##Q15"
      ],
      "metadata": {
        "id": "Qj8W2jICfgkq"
      }
    },
    {
      "cell_type": "code",
      "source": [
        "coefficients.sort(reverse=True)\n",
        "fig, ax = plt.subplots()\n",
        "x = np.arange(0, X_train.columns.size)\n",
        "ax.plot(x, coefficients)\n",
        "ax.set_xlabel('feature index')\n",
        "ax.set_ylabel('coefficient absolute value')\n",
        "ax.set_title('Feature absolute Coefficient Value')\n",
        "plt.grid()\n",
        "plt.show()"
      ],
      "metadata": {
        "colab": {
          "base_uri": "https://localhost:8080/",
          "height": 295
        },
        "id": "2tQDzpENfikR",
        "outputId": "1ba89566-22d1-45da-d3a3-5573709c902e"
      },
      "execution_count": 394,
      "outputs": [
        {
          "output_type": "display_data",
          "data": {
            "image/png": "[encoded data removed]",
            "text/plain": [
              "<Figure size 432x288 with 1 Axes>"
            ]
          },
          "metadata": {
            "needs_background": "light"
          }
        }
      ]
    },
    {
      "cell_type": "markdown",
      "source": [
        "# Section 6"
      ],
      "metadata": {
        "id": "UJc2wcUHCUL6"
      }
    },
    {
      "cell_type": "code",
      "source": [
        "test_copy = test.copy()\n",
        "train_copy = train.copy()\n",
        "\n",
        "X_train_copy = train_copy.drop(columns=['VirusScore', 'patient_id'])\n",
        "y_train_copy = train_copy['VirusScore']"
      ],
      "metadata": {
        "id": "3rwBNoR2CV2r"
      },
      "execution_count": 395,
      "outputs": []
    },
    {
      "cell_type": "code",
      "source": [
        "from sklearn.preprocessing import PolynomialFeatures\n",
        "\n",
        "poly = PolynomialFeatures(degree=2, include_bias=False)\n",
        "X_train_copy = poly.fit_transform(X_train_copy)"
      ],
      "metadata": {
        "id": "g_HOQQ7AE5U8"
      },
      "execution_count": 396,
      "outputs": []
    },
    {
      "cell_type": "markdown",
      "source": [
        "##Q18"
      ],
      "metadata": {
        "id": "6E8leKqfHpwA"
      }
    },
    {
      "cell_type": "code",
      "source": [
        "alphas = np.logspace(-4, 7, 12)\n",
        "train_results_means = []\n",
        "test_results_means = []\n",
        "\n",
        "for alpha in alphas:\n",
        "  ridge_regr = Ridge(fit_intercept=True, alpha=alpha)\n",
        "  scores = cross_validate(ridge_regr, X_train_copy, y_train_copy, cv=5, scoring='neg_mean_squared_error', return_train_score=True)\n",
        "  train_results_means.append(np.abs(scores['train_score'].mean()))\n",
        "  test_results_means.append(np.abs(scores['test_score'].mean()))"
      ],
      "metadata": {
        "id": "b-EcZC3pHn8a"
      },
      "execution_count": 397,
      "outputs": []
    },
    {
      "cell_type": "code",
      "source": [
        "dummy_res = np.abs(dummy_scores['test_score'].mean())\n",
        "\n",
        "fig, ax = plt.subplots()\n",
        "ax.plot(alphas, train_results_means, Label='Train Scores')\n",
        "ax.plot(alphas, test_results_means, Label='Validation Scores')\n",
        "ax.plot(alphas, [dummy_res]*12, Label ='Dummy Scores')\n",
        "plt.legend()\n",
        "plt.grid()\n",
        "plt.title('Train and Validation Accuracies wrt alpha')\n",
        "ax.set_xscale('log')\n",
        "ax.set_xlabel('alpha')\n",
        "ax.set_ylabel('mse')"
      ],
      "metadata": {
        "colab": {
          "base_uri": "https://localhost:8080/",
          "height": 316
        },
        "id": "SV3d1kdVH21U",
        "outputId": "5f1fa0eb-441b-4d19-8d3b-2c6f67d421f2"
      },
      "execution_count": 398,
      "outputs": [
        {
          "output_type": "execute_result",
          "data": {
            "text/plain": [
              "Text(0, 0.5, 'mse')"
            ]
          },
          "metadata": {},
          "execution_count": 398
        },
        {
          "output_type": "display_data",
          "data": {
            "image/png": "[encoded data removed]",
            "text/plain": [
              "<Figure size 432x288 with 1 Axes>"
            ]
          },
          "metadata": {
            "needs_background": "light"
          }
        }
      ]
    },
    {
      "cell_type": "code",
      "source": [
        "min_alpha_idx = min(range(len(test_results_means)), key=test_results_means.__getitem__)\n",
        "min_alpha_poly = alphas[min_alpha_idx]\n",
        "print(min_alpha_poly)"
      ],
      "metadata": {
        "colab": {
          "base_uri": "https://localhost:8080/"
        },
        "id": "eIe4NcbEBrwf",
        "outputId": "c7490dce-2531-4264-ba94-e8bb9067528e"
      },
      "execution_count": 399,
      "outputs": [
        {
          "output_type": "stream",
          "name": "stdout",
          "text": [
            "1.0\n"
          ]
        }
      ]
    },
    {
      "cell_type": "code",
      "source": [
        "print('poly train mse min', min(train_results_means))\n",
        "print('poly train mse', train_results_means[min_alpha_idx])\n",
        "print('poly validation mse', min(test_results_means))"
      ],
      "metadata": {
        "colab": {
          "base_uri": "https://localhost:8080/"
        },
        "id": "sX9dOgnyauAe",
        "outputId": "9521cc7d-d18e-41d1-8c94-e7417522a916"
      },
      "execution_count": 400,
      "outputs": [
        {
          "output_type": "stream",
          "name": "stdout",
          "text": [
            "poly train mse min 0.0050096317907985435\n",
            "poly train mse 0.005041146167040725\n",
            "poly validation mse 0.006657723854512796\n"
          ]
        }
      ]
    },
    {
      "cell_type": "code",
      "source": [
        "best_alpha_poly_regr = Ridge(fit_intercept=True, alpha=min_alpha_poly)\n",
        "best_alpha_poly_regr.fit(X_train_copy, y_train_copy)"
      ],
      "metadata": {
        "colab": {
          "base_uri": "https://localhost:8080/"
        },
        "id": "wOGiEMy8JGyA",
        "outputId": "f56ff43c-c97b-4d45-f3a7-42e4d64f9151"
      },
      "execution_count": 401,
      "outputs": [
        {
          "output_type": "execute_result",
          "data": {
            "text/plain": [
              "Ridge()"
            ]
          },
          "metadata": {},
          "execution_count": 401
        }
      ]
    },
    {
      "cell_type": "markdown",
      "source": [
        "#Section 7"
      ],
      "metadata": {
        "id": "q30OFSsYJ6Ff"
      }
    },
    {
      "cell_type": "markdown",
      "source": [
        "##Q20"
      ],
      "metadata": {
        "id": "UzpDufXkKDYf"
      }
    },
    {
      "cell_type": "code",
      "source": [
        "blood_type = [None]*(len(test['patient_id']))\n",
        "blood_types = ['blood_type_A+', 'blood_type_A-', 'blood_type_B+', 'blood_type_B-', 'blood_type_AB+', 'blood_type_AB-', 'blood_type_O+', 'blood_type_O-']\n",
        "for person in range(len(test['patient_id'])):\n",
        "  for idx in range(len(blood_types)):\n",
        "    if test[blood_types[idx]].iloc[person] == 1:\n",
        "      blood_type[person] = blood_types[idx][11:]\n",
        "    \n",
        "test['blood_type'] = blood_type\n",
        "\n",
        "blood_types_with_A = test['blood_type'].str.contains('A')\n",
        "blood_types_with_A = blood_types_with_A.astype(int)\n",
        "test['blood_type_contains_A'] = blood_types_with_A\n",
        "\n",
        "test = test.drop(columns=['blood_type', 'blood_type_A+', 'blood_type_A-', 'blood_type_AB+', 'blood_type_AB-', 'blood_type_B+',\n",
        "                            'blood_type_B-', 'blood_type_O+', 'blood_type_O-'])"
      ],
      "metadata": {
        "id": "o6GviVMUrWB4"
      },
      "execution_count": 402,
      "outputs": []
    },
    {
      "cell_type": "code",
      "source": [
        "X_test = test.drop(columns=['VirusScore', 'patient_id'])\n",
        "y_test = test['VirusScore']\n",
        "\n",
        "poly = PolynomialFeatures(degree=2, include_bias=False)\n",
        "X_test_poly = poly.fit_transform(X_test)\n",
        "\n",
        "y_predict_dummy = dummy_regr.predict(X_test)\n",
        "y_predict_ridge = best_alpha_ridge_regr.predict(X_test)\n",
        "y_predict_lasso = best_alpha_lasso_regr.predict(X_test)\n",
        "y_predict_poly = best_alpha_poly_regr.predict(X_test_poly)\n"
      ],
      "metadata": {
        "id": "lHrwO2VLK3CZ"
      },
      "execution_count": 403,
      "outputs": []
    },
    {
      "cell_type": "code",
      "source": [
        "from sklearn.metrics import mean_squared_error\n",
        "\n",
        "\n",
        "dummy_mse = mean_squared_error(y_true=y_test, y_pred=y_predict_dummy)\n",
        "ridge_mse = mean_squared_error(y_true=y_test, y_pred=y_predict_ridge)\n",
        "lasso_mse = mean_squared_error(y_true=y_test, y_pred=y_predict_lasso)\n",
        "poly_mse = mean_squared_error(y_true=y_test, y_pred=y_predict_poly)\n"
      ],
      "metadata": {
        "id": "80y9F4bQutrh"
      },
      "execution_count": 404,
      "outputs": []
    },
    {
      "cell_type": "code",
      "source": [
        "print('dummy_mse:', dummy_mse)\n",
        "print('ridge_mse', ridge_mse)\n",
        "print('lasso_mse', lasso_mse)\n",
        "print('poly_mse', poly_mse)"
      ],
      "metadata": {
        "colab": {
          "base_uri": "https://localhost:8080/"
        },
        "id": "a9UhI1IAvRvZ",
        "outputId": "58deaea9-6e1a-4244-bf45-e25e1db4c350"
      },
      "execution_count": 405,
      "outputs": [
        {
          "output_type": "stream",
          "name": "stdout",
          "text": [
            "dummy_mse: 0.021030017291666668\n",
            "ridge_mse 0.00878415703389226\n",
            "lasso_mse 0.008781036421647221\n",
            "poly_mse 0.007796477853244047\n"
          ]
        }
      ]
    },
    {
      "cell_type": "markdown",
      "source": [
        "# Section 8 - Bonus"
      ],
      "metadata": {
        "id": "XeXXXeZfbCk5"
      }
    },
    {
      "cell_type": "markdown",
      "source": [
        "#Section 9"
      ],
      "metadata": {
        "id": "AgDB-zj_bEUa"
      }
    },
    {
      "cell_type": "code",
      "source": [
        "unlabeled_data = pd.read_csv('virus_unlabeled.csv')  \n",
        "data = pd.read_csv('virus_labeled.csv')\n",
        "from datetime import datetime\n",
        "\n",
        "def reformat_date(date):\n",
        "  if isinstance(date, str):\n",
        "    return datetime.strptime(date, \"%d-%m-%y\").strftime(\"%Y-%m-%d\")\n",
        "  return date\n",
        "\n",
        "unlabeled_data['pcr_date'] = unlabeled_data['pcr_date'].apply(reformat_date)\n",
        "\n"
      ],
      "metadata": {
        "id": "kRPfH8lMbJRo"
      },
      "execution_count": 406,
      "outputs": []
    },
    {
      "cell_type": "code",
      "source": [
        "data, unlabeled_data = prepare_data(unlabeled_data, data)   \n"
      ],
      "metadata": {
        "colab": {
          "base_uri": "https://localhost:8080/"
        },
        "id": "ixyWxY3nDnPz",
        "outputId": "bc7f8d28-6f88-4aa5-9958-e7495048dc02"
      },
      "execution_count": 407,
      "outputs": [
        {
          "output_type": "stream",
          "name": "stderr",
          "text": [
            "/usr/local/lib/python3.7/dist-packages/pandas/core/indexing.py:670: SettingWithCopyWarning: \n",
            "A value is trying to be set on a copy of a slice from a DataFrame\n",
            "\n",
            "See the caveats in the documentation: https://pandas.pydata.org/pandas-docs/stable/user_guide/indexing.html#returning-a-view-versus-a-copy\n",
            "  iloc._setitem_with_indexer(indexer, value)\n"
          ]
        }
      ]
    },
    {
      "cell_type": "code",
      "source": [
        "blood_type = [None]*(len(data['patient_id']))\n",
        "blood_types = ['blood_type_A+', 'blood_type_A-', 'blood_type_B+', 'blood_type_B-', 'blood_type_AB+', 'blood_type_AB-', 'blood_type_O+', 'blood_type_O-']\n",
        "for person in range(len(data['patient_id'])):\n",
        "  for idx in range(len(blood_types)):\n",
        "    if data[blood_types[idx]].iloc[person] == 1:\n",
        "      blood_type[person] = blood_types[idx][11:]\n",
        "    \n",
        "data['blood_type'] = blood_type\n",
        "\n",
        "blood_types_with_A = data['blood_type'].str.contains('A')\n",
        "blood_types_with_A = blood_types_with_A.astype(int)\n",
        "data['blood_type_contains_A'] = blood_types_with_A\n",
        "\n",
        "data = data.drop(columns=['blood_type', 'blood_type_A+', 'blood_type_A-', 'blood_type_AB+', 'blood_type_AB-', 'blood_type_B+',\n",
        "                            'blood_type_B-', 'blood_type_O+', 'blood_type_O-'])"
      ],
      "metadata": {
        "id": "nbDTf4wPdB6D"
      },
      "execution_count": 408,
      "outputs": []
    },
    {
      "cell_type": "code",
      "source": [
        "blood_type = [None]*(len(unlabeled_data['patient_id']))\n",
        "blood_types = ['blood_type_A+', 'blood_type_A-', 'blood_type_B+', 'blood_type_B-', 'blood_type_AB+', 'blood_type_AB-', 'blood_type_O+', 'blood_type_O-']\n",
        "for person in range(len(unlabeled_data['patient_id'])):\n",
        "  for idx in range(len(blood_types)):\n",
        "    if unlabeled_data[blood_types[idx]].iloc[person] == 1:\n",
        "      blood_type[person] = blood_types[idx][11:]\n",
        "    \n",
        "unlabeled_data['blood_type'] = blood_type\n",
        "\n",
        "blood_types_with_A = unlabeled_data['blood_type'].str.contains('A')\n",
        "blood_types_with_A = blood_types_with_A.astype(int)\n",
        "unlabeled_data['blood_type_contains_A'] = blood_types_with_A\n",
        "\n",
        "unlabeled_data = unlabeled_data.drop(columns=['blood_type', 'blood_type_A+', 'blood_type_A-', 'blood_type_AB+', 'blood_type_AB-', 'blood_type_B+',\n",
        "                            'blood_type_B-', 'blood_type_O+', 'blood_type_O-'])"
      ],
      "metadata": {
        "id": "Sqimmk7_7vn5"
      },
      "execution_count": 409,
      "outputs": []
    },
    {
      "cell_type": "code",
      "source": [
        "X_train = data.drop(columns=['VirusScore', 'patient_id'])\n",
        "y_train = data['VirusScore']\n",
        "\n",
        "poly = PolynomialFeatures(degree=2, include_bias=False)\n",
        "X_train_poly = poly.fit_transform(X_train)"
      ],
      "metadata": {
        "id": "Xtv2a-XlFvcM"
      },
      "execution_count": 410,
      "outputs": []
    },
    {
      "cell_type": "code",
      "source": [
        "# train models on entire data\n",
        "\n",
        "ridge_regr_sec_4 = Ridge(fit_intercept=True, alpha=1)\n",
        "ridge_regr_sec_4.fit(X_train, y_train)\n",
        "\n",
        "lasso_regr_sec_5 = Lasso(fit_intercept=True, alpha=1e-5)\n",
        "lasso_regr_sec_5.fit(X_train, y_train)\n",
        "\n",
        "poly = PolynomialFeatures(degree=2, include_bias=False)\n",
        "X_train_poly = poly.fit_transform(X_train)\n",
        "\n",
        "poly_regr_sec_6 = Ridge(fit_intercept=True, alpha=10)\n",
        "poly_regr_sec_6.fit(X_train_poly, y_train)"
      ],
      "metadata": {
        "colab": {
          "base_uri": "https://localhost:8080/"
        },
        "id": "19kTDOQVd_7i",
        "outputId": "9bd2fc6e-82e7-4941-c43d-e797f6414c95"
      },
      "execution_count": 411,
      "outputs": [
        {
          "output_type": "execute_result",
          "data": {
            "text/plain": [
              "Ridge(alpha=10)"
            ]
          },
          "metadata": {},
          "execution_count": 411
        }
      ]
    },
    {
      "cell_type": "code",
      "source": [
        "X_test = unlabeled_data.drop(columns='patient_id')\n",
        "\n",
        "poly = PolynomialFeatures(degree=2, include_bias=False)\n",
        "X_test_poly = poly.fit_transform(X_test)\n"
      ],
      "metadata": {
        "id": "QU1ojIdqdkPs"
      },
      "execution_count": 412,
      "outputs": []
    },
    {
      "cell_type": "code",
      "source": [
        "y_predict_sec_4 = ridge_regr_sec_4.predict(X_test)\n",
        "y_predict_sec_5 = lasso_regr_sec_5.predict(X_test)\n",
        "y_predict_sec_6 = poly_regr_sec_6.predict(X_test_poly)                                              "
      ],
      "metadata": {
        "id": "Y39sfjy4fFW_"
      },
      "execution_count": 413,
      "outputs": []
    },
    {
      "cell_type": "code",
      "source": [
        "df_sec_4 = {'patient_id': unlabeled_data['patient_id'], 'VirusScore': y_predict_sec_4}\n",
        "df_sec_4 = pd.DataFrame(df_sec_4)\n",
        "\n",
        "df_sec_5 = {'patient_id': unlabeled_data['patient_id'], 'VirusScore': y_predict_sec_5}\n",
        "df_sec_5 = pd.DataFrame(df_sec_5)\n",
        "\n",
        "df_sec_6 = {'patient_id': unlabeled_data['patient_id'], 'VirusScore': y_predict_sec_6}\n",
        "df_sec_6 = pd.DataFrame(df_sec_6)"
      ],
      "metadata": {
        "id": "E7Zcxp52HHLZ"
      },
      "execution_count": 414,
      "outputs": []
    },
    {
      "cell_type": "code",
      "source": [
        "df_sec_4.to_csv('pred_4.csv', index=False)\n",
        "df_sec_5.to_csv('pred_5.csv', index=False)\n",
        "df_sec_6.to_csv('pred_6.csv', index=False)"
      ],
      "metadata": {
        "id": "Zz9x0bo3IgI5"
      },
      "execution_count": 415,
      "outputs": []
    },
    {
      "cell_type": "code",
      "source": [
        "df = pd.read_csv('pred_4.csv')"
      ],
      "metadata": {
        "id": "geJtBMNnJ7xU"
      },
      "execution_count": 416,
      "outputs": []
    },
    {
      "cell_type": "code",
      "source": [
        "df.shape"
      ],
      "metadata": {
        "colab": {
          "base_uri": "https://localhost:8080/"
        },
        "id": "9W0T-sbNKFI8",
        "outputId": "7640a476-22a1-433a-beb6-44ec358320e5"
      },
      "execution_count": 417,
      "outputs": [
        {
          "output_type": "execute_result",
          "data": {
            "text/plain": [
              "(1000, 2)"
            ]
          },
          "metadata": {},
          "execution_count": 417
        }
      ]
    }
  ]
}